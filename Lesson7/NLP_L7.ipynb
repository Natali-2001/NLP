{
  "cells": [
    {
      "cell_type": "markdown",
      "id": "80f97f51",
      "metadata": {
        "id": "80f97f51"
      },
      "source": [
        "Берем отызывы за лето (из архива с материалами или предыдущего занятия)\n",
        "1. Учим conv сеть для классификации\n",
        "2. Рассмотреть 2-а варианта сеточек\n",
        "\n",
        "2.1 Инициализировать tf.keras.layers.Embedding предобученными векторами взять к примеру с https://rusvectores.org/ru/\n",
        "\n",
        "2.2 Инициализировать слой tf.keras.layers.Embedding по умолчанию (ну то есть вам ничего не делать с весами)\n",
        "\n",
        "Сравнить две архитектуры с предобученными весами и когда tf.keras.layers.Embedding обучается сразу со всей сеточкой, что получилось лучше\n"
      ]
    },
    {
      "cell_type": "code",
      "source": [
        "!pip install pymorphy2"
      ],
      "metadata": {
        "colab": {
          "base_uri": "https://localhost:8080/"
        },
        "id": "wrhKSM5b8los",
        "outputId": "aec1d6b4-ab8d-47cc-e290-56585b2ab162"
      },
      "id": "wrhKSM5b8los",
      "execution_count": 1,
      "outputs": [
        {
          "output_type": "stream",
          "name": "stdout",
          "text": [
            "Looking in indexes: https://pypi.org/simple, https://us-python.pkg.dev/colab-wheels/public/simple/\n",
            "Collecting pymorphy2\n",
            "  Downloading pymorphy2-0.9.1-py3-none-any.whl (55 kB)\n",
            "\u001b[K     |████████████████████████████████| 55 kB 3.6 MB/s \n",
            "\u001b[?25hCollecting dawg-python>=0.7.1\n",
            "  Downloading DAWG_Python-0.7.2-py2.py3-none-any.whl (11 kB)\n",
            "Collecting docopt>=0.6\n",
            "  Downloading docopt-0.6.2.tar.gz (25 kB)\n",
            "Collecting pymorphy2-dicts-ru<3.0,>=2.4\n",
            "  Downloading pymorphy2_dicts_ru-2.4.417127.4579844-py2.py3-none-any.whl (8.2 MB)\n",
            "\u001b[K     |████████████████████████████████| 8.2 MB 40.9 MB/s \n",
            "\u001b[?25hBuilding wheels for collected packages: docopt\n",
            "  Building wheel for docopt (setup.py) ... \u001b[?25l\u001b[?25hdone\n",
            "  Created wheel for docopt: filename=docopt-0.6.2-py2.py3-none-any.whl size=13723 sha256=6464ad017960baf7b945143484dd582d3e0777c25da2b0fdfe20edb3aa725293\n",
            "  Stored in directory: /root/.cache/pip/wheels/72/b0/3f/1d95f96ff986c7dfffe46ce2be4062f38ebd04b506c77c81b9\n",
            "Successfully built docopt\n",
            "Installing collected packages: pymorphy2-dicts-ru, docopt, dawg-python, pymorphy2\n",
            "Successfully installed dawg-python-0.7.2 docopt-0.6.2 pymorphy2-0.9.1 pymorphy2-dicts-ru-2.4.417127.4579844\n"
          ]
        }
      ]
    },
    {
      "cell_type": "code",
      "execution_count": 2,
      "id": "a851d9b7",
      "metadata": {
        "id": "a851d9b7"
      },
      "outputs": [],
      "source": [
        "import numpy as np\n",
        "import pandas as pd\n",
        "from string import punctuation\n",
        "from nltk.corpus import stopwords\n",
        "from pymorphy2 import MorphAnalyzer\n",
        "import re\n",
        "from sklearn.model_selection import train_test_split\n",
        "from sklearn.preprocessing import LabelEncoder\n",
        "import nltk\n",
        "from nltk.probability import FreqDist\n",
        "from nltk.tokenize import word_tokenize\n",
        "from tensorflow.keras.utils import to_categorical\n",
        "from keras.models import Sequential, Model\n",
        "from keras.layers import Dense, Dropout, Activation, Input, Embedding, Conv1D, GlobalMaxPool1D, Flatten\n",
        "from keras.losses import categorical_crossentropy, SparseCategoricalCrossentropy"
      ]
    },
    {
      "cell_type": "code",
      "source": [
        "!pip install xlrd==1.2.0"
      ],
      "metadata": {
        "colab": {
          "base_uri": "https://localhost:8080/"
        },
        "id": "fkxqDkgmCYKY",
        "outputId": "555e3618-84bc-4deb-e53f-ea3b53927abe"
      },
      "id": "fkxqDkgmCYKY",
      "execution_count": 3,
      "outputs": [
        {
          "output_type": "stream",
          "name": "stdout",
          "text": [
            "Looking in indexes: https://pypi.org/simple, https://us-python.pkg.dev/colab-wheels/public/simple/\n",
            "Collecting xlrd==1.2.0\n",
            "  Downloading xlrd-1.2.0-py2.py3-none-any.whl (103 kB)\n",
            "\u001b[K     |████████████████████████████████| 103 kB 23.4 MB/s \n",
            "\u001b[?25hInstalling collected packages: xlrd\n",
            "  Attempting uninstall: xlrd\n",
            "    Found existing installation: xlrd 1.1.0\n",
            "    Uninstalling xlrd-1.1.0:\n",
            "      Successfully uninstalled xlrd-1.1.0\n",
            "Successfully installed xlrd-1.2.0\n"
          ]
        }
      ]
    },
    {
      "cell_type": "code",
      "source": [
        "from google.colab import drive\n",
        "drive.mount('/content/drive')"
      ],
      "metadata": {
        "colab": {
          "base_uri": "https://localhost:8080/"
        },
        "id": "Tdn62YOr8WqV",
        "outputId": "a4287dbb-cd78-4bde-d83e-e680130b7849"
      },
      "id": "Tdn62YOr8WqV",
      "execution_count": 4,
      "outputs": [
        {
          "output_type": "stream",
          "name": "stdout",
          "text": [
            "Mounted at /content/drive\n"
          ]
        }
      ]
    },
    {
      "cell_type": "code",
      "execution_count": 5,
      "id": "91440128",
      "metadata": {
        "colab": {
          "base_uri": "https://localhost:8080/",
          "height": 206
        },
        "id": "91440128",
        "outputId": "410f740d-40e8-4e55-bbe4-5b3ee26c428e"
      },
      "outputs": [
        {
          "output_type": "execute_result",
          "data": {
            "text/plain": [
              "   Rating                                            Content        Date\n",
              "0       5                                     It just works!  2017-08-14\n",
              "1       4  В целом удобноное приложение...из минусов хотя...  2017-08-14\n",
              "2       5                                        Отлично все  2017-08-14\n",
              "3       5  Стал зависать на 1% работы антивируса. Дальше ...  2017-08-14\n",
              "4       5                     Очень удобно, работает быстро.  2017-08-14"
            ],
            "text/html": [
              "\n",
              "  <div id=\"df-d15a619e-b74c-4606-a701-bdf90c7609b1\">\n",
              "    <div class=\"colab-df-container\">\n",
              "      <div>\n",
              "<style scoped>\n",
              "    .dataframe tbody tr th:only-of-type {\n",
              "        vertical-align: middle;\n",
              "    }\n",
              "\n",
              "    .dataframe tbody tr th {\n",
              "        vertical-align: top;\n",
              "    }\n",
              "\n",
              "    .dataframe thead th {\n",
              "        text-align: right;\n",
              "    }\n",
              "</style>\n",
              "<table border=\"1\" class=\"dataframe\">\n",
              "  <thead>\n",
              "    <tr style=\"text-align: right;\">\n",
              "      <th></th>\n",
              "      <th>Rating</th>\n",
              "      <th>Content</th>\n",
              "      <th>Date</th>\n",
              "    </tr>\n",
              "  </thead>\n",
              "  <tbody>\n",
              "    <tr>\n",
              "      <th>0</th>\n",
              "      <td>5</td>\n",
              "      <td>It just works!</td>\n",
              "      <td>2017-08-14</td>\n",
              "    </tr>\n",
              "    <tr>\n",
              "      <th>1</th>\n",
              "      <td>4</td>\n",
              "      <td>В целом удобноное приложение...из минусов хотя...</td>\n",
              "      <td>2017-08-14</td>\n",
              "    </tr>\n",
              "    <tr>\n",
              "      <th>2</th>\n",
              "      <td>5</td>\n",
              "      <td>Отлично все</td>\n",
              "      <td>2017-08-14</td>\n",
              "    </tr>\n",
              "    <tr>\n",
              "      <th>3</th>\n",
              "      <td>5</td>\n",
              "      <td>Стал зависать на 1% работы антивируса. Дальше ...</td>\n",
              "      <td>2017-08-14</td>\n",
              "    </tr>\n",
              "    <tr>\n",
              "      <th>4</th>\n",
              "      <td>5</td>\n",
              "      <td>Очень удобно, работает быстро.</td>\n",
              "      <td>2017-08-14</td>\n",
              "    </tr>\n",
              "  </tbody>\n",
              "</table>\n",
              "</div>\n",
              "      <button class=\"colab-df-convert\" onclick=\"convertToInteractive('df-d15a619e-b74c-4606-a701-bdf90c7609b1')\"\n",
              "              title=\"Convert this dataframe to an interactive table.\"\n",
              "              style=\"display:none;\">\n",
              "        \n",
              "  <svg xmlns=\"http://www.w3.org/2000/svg\" height=\"24px\"viewBox=\"0 0 24 24\"\n",
              "       width=\"24px\">\n",
              "    <path d=\"M0 0h24v24H0V0z\" fill=\"none\"/>\n",
              "    <path d=\"M18.56 5.44l.94 2.06.94-2.06 2.06-.94-2.06-.94-.94-2.06-.94 2.06-2.06.94zm-11 1L8.5 8.5l.94-2.06 2.06-.94-2.06-.94L8.5 2.5l-.94 2.06-2.06.94zm10 10l.94 2.06.94-2.06 2.06-.94-2.06-.94-.94-2.06-.94 2.06-2.06.94z\"/><path d=\"M17.41 7.96l-1.37-1.37c-.4-.4-.92-.59-1.43-.59-.52 0-1.04.2-1.43.59L10.3 9.45l-7.72 7.72c-.78.78-.78 2.05 0 2.83L4 21.41c.39.39.9.59 1.41.59.51 0 1.02-.2 1.41-.59l7.78-7.78 2.81-2.81c.8-.78.8-2.07 0-2.86zM5.41 20L4 18.59l7.72-7.72 1.47 1.35L5.41 20z\"/>\n",
              "  </svg>\n",
              "      </button>\n",
              "      \n",
              "  <style>\n",
              "    .colab-df-container {\n",
              "      display:flex;\n",
              "      flex-wrap:wrap;\n",
              "      gap: 12px;\n",
              "    }\n",
              "\n",
              "    .colab-df-convert {\n",
              "      background-color: #E8F0FE;\n",
              "      border: none;\n",
              "      border-radius: 50%;\n",
              "      cursor: pointer;\n",
              "      display: none;\n",
              "      fill: #1967D2;\n",
              "      height: 32px;\n",
              "      padding: 0 0 0 0;\n",
              "      width: 32px;\n",
              "    }\n",
              "\n",
              "    .colab-df-convert:hover {\n",
              "      background-color: #E2EBFA;\n",
              "      box-shadow: 0px 1px 2px rgba(60, 64, 67, 0.3), 0px 1px 3px 1px rgba(60, 64, 67, 0.15);\n",
              "      fill: #174EA6;\n",
              "    }\n",
              "\n",
              "    [theme=dark] .colab-df-convert {\n",
              "      background-color: #3B4455;\n",
              "      fill: #D2E3FC;\n",
              "    }\n",
              "\n",
              "    [theme=dark] .colab-df-convert:hover {\n",
              "      background-color: #434B5C;\n",
              "      box-shadow: 0px 1px 3px 1px rgba(0, 0, 0, 0.15);\n",
              "      filter: drop-shadow(0px 1px 2px rgba(0, 0, 0, 0.3));\n",
              "      fill: #FFFFFF;\n",
              "    }\n",
              "  </style>\n",
              "\n",
              "      <script>\n",
              "        const buttonEl =\n",
              "          document.querySelector('#df-d15a619e-b74c-4606-a701-bdf90c7609b1 button.colab-df-convert');\n",
              "        buttonEl.style.display =\n",
              "          google.colab.kernel.accessAllowed ? 'block' : 'none';\n",
              "\n",
              "        async function convertToInteractive(key) {\n",
              "          const element = document.querySelector('#df-d15a619e-b74c-4606-a701-bdf90c7609b1');\n",
              "          const dataTable =\n",
              "            await google.colab.kernel.invokeFunction('convertToInteractive',\n",
              "                                                     [key], {});\n",
              "          if (!dataTable) return;\n",
              "\n",
              "          const docLinkHtml = 'Like what you see? Visit the ' +\n",
              "            '<a target=\"_blank\" href=https://colab.research.google.com/notebooks/data_table.ipynb>data table notebook</a>'\n",
              "            + ' to learn more about interactive tables.';\n",
              "          element.innerHTML = '';\n",
              "          dataTable['output_type'] = 'display_data';\n",
              "          await google.colab.output.renderOutput(dataTable, element);\n",
              "          const docLink = document.createElement('div');\n",
              "          docLink.innerHTML = docLinkHtml;\n",
              "          element.appendChild(docLink);\n",
              "        }\n",
              "      </script>\n",
              "    </div>\n",
              "  </div>\n",
              "  "
            ]
          },
          "metadata": {},
          "execution_count": 5
        }
      ],
      "source": [
        "data = pd.read_excel('/content/drive/MyDrive/отзывы за лето.xls')\n",
        "data.head()"
      ]
    },
    {
      "cell_type": "code",
      "execution_count": 6,
      "id": "4c026cc6",
      "metadata": {
        "id": "4c026cc6"
      },
      "outputs": [],
      "source": [
        "max_words = 20000\n",
        "max_len = 150\n",
        "num_classes = 5\n",
        "\n",
        "# Training\n",
        "epochs = 20\n",
        "batch_size = 512\n",
        "print_batch_n = 100"
      ]
    },
    {
      "cell_type": "code",
      "source": [
        "import nltk\n",
        "nltk.download('stopwords')\n",
        "nltk.download('punkt')"
      ],
      "metadata": {
        "colab": {
          "base_uri": "https://localhost:8080/"
        },
        "id": "6Il38bvyKdrK",
        "outputId": "c9dee905-9007-4062-d336-e1d3b9998126"
      },
      "id": "6Il38bvyKdrK",
      "execution_count": 7,
      "outputs": [
        {
          "output_type": "stream",
          "name": "stderr",
          "text": [
            "[nltk_data] Downloading package stopwords to /root/nltk_data...\n",
            "[nltk_data]   Unzipping corpora/stopwords.zip.\n",
            "[nltk_data] Downloading package punkt to /root/nltk_data...\n",
            "[nltk_data]   Unzipping tokenizers/punkt.zip.\n"
          ]
        },
        {
          "output_type": "execute_result",
          "data": {
            "text/plain": [
              "True"
            ]
          },
          "metadata": {},
          "execution_count": 7
        }
      ]
    },
    {
      "cell_type": "code",
      "execution_count": 8,
      "id": "7bbf505f",
      "metadata": {
        "id": "7bbf505f"
      },
      "outputs": [],
      "source": [
        "stopwordslist = stopwords.words(\"russian\")\n",
        "ptrn = r'[^a-zA-Zа-яА-Я0-9]'\n",
        "\n",
        "morpher = MorphAnalyzer()\n",
        "\n",
        "def words_only(text):\n",
        "    text=str(text)\n",
        "    return text.lower()   \n",
        "\n",
        "def remove_punkt(text):\n",
        "    return re.sub(ptrn, ' ', text)\n",
        "\n",
        "def to_token(text):\n",
        "    return nltk.tokenize.word_tokenize(text)\n",
        "\n",
        "def remove_stopwords(text):\n",
        "    text_list = [w for w in text if w not in stopwordslist]\n",
        "    return ' '.join(word for word in text_list)\n",
        "\n",
        "def morphe_text(text):\n",
        "    text = [morpher.parse(word)[0].normal_form for word in text.split() if word not in stopwordslist]\n",
        "    return \" \".join(text)\n",
        "\n",
        "def normalize_text(text):\n",
        "    text = words_only(text)\n",
        "    text = remove_punkt(text)\n",
        "    text = to_token(text)\n",
        "    text = remove_stopwords(text)\n",
        "    text = morphe_text(text)\n",
        "    return text"
      ]
    },
    {
      "cell_type": "code",
      "execution_count": 9,
      "id": "ef8dc15b",
      "metadata": {
        "colab": {
          "base_uri": "https://localhost:8080/",
          "height": 206
        },
        "id": "ef8dc15b",
        "outputId": "b2b55f2f-2bb8-4a41-aa69-746705a90d5e"
      },
      "outputs": [
        {
          "output_type": "execute_result",
          "data": {
            "text/plain": [
              "   Rating                                            Content        Date  \\\n",
              "0       5                                     It just works!  2017-08-14   \n",
              "1       4  В целом удобноное приложение...из минусов хотя...  2017-08-14   \n",
              "2       5                                        Отлично все  2017-08-14   \n",
              "3       5  Стал зависать на 1% работы антивируса. Дальше ...  2017-08-14   \n",
              "4       5                     Очень удобно, работает быстро.  2017-08-14   \n",
              "\n",
              "                                  normalized_content  \n",
              "0                                      it just works  \n",
              "1  целое удобноной приложение минус хотеть слишко...  \n",
              "2                                            отлично  \n",
              "3  стать зависать 1 работа антивирус далёкий нику...  \n",
              "4                       очень удобно работать быстро  "
            ],
            "text/html": [
              "\n",
              "  <div id=\"df-c166a3ed-175b-4901-bc5b-ca6aae01d453\">\n",
              "    <div class=\"colab-df-container\">\n",
              "      <div>\n",
              "<style scoped>\n",
              "    .dataframe tbody tr th:only-of-type {\n",
              "        vertical-align: middle;\n",
              "    }\n",
              "\n",
              "    .dataframe tbody tr th {\n",
              "        vertical-align: top;\n",
              "    }\n",
              "\n",
              "    .dataframe thead th {\n",
              "        text-align: right;\n",
              "    }\n",
              "</style>\n",
              "<table border=\"1\" class=\"dataframe\">\n",
              "  <thead>\n",
              "    <tr style=\"text-align: right;\">\n",
              "      <th></th>\n",
              "      <th>Rating</th>\n",
              "      <th>Content</th>\n",
              "      <th>Date</th>\n",
              "      <th>normalized_content</th>\n",
              "    </tr>\n",
              "  </thead>\n",
              "  <tbody>\n",
              "    <tr>\n",
              "      <th>0</th>\n",
              "      <td>5</td>\n",
              "      <td>It just works!</td>\n",
              "      <td>2017-08-14</td>\n",
              "      <td>it just works</td>\n",
              "    </tr>\n",
              "    <tr>\n",
              "      <th>1</th>\n",
              "      <td>4</td>\n",
              "      <td>В целом удобноное приложение...из минусов хотя...</td>\n",
              "      <td>2017-08-14</td>\n",
              "      <td>целое удобноной приложение минус хотеть слишко...</td>\n",
              "    </tr>\n",
              "    <tr>\n",
              "      <th>2</th>\n",
              "      <td>5</td>\n",
              "      <td>Отлично все</td>\n",
              "      <td>2017-08-14</td>\n",
              "      <td>отлично</td>\n",
              "    </tr>\n",
              "    <tr>\n",
              "      <th>3</th>\n",
              "      <td>5</td>\n",
              "      <td>Стал зависать на 1% работы антивируса. Дальше ...</td>\n",
              "      <td>2017-08-14</td>\n",
              "      <td>стать зависать 1 работа антивирус далёкий нику...</td>\n",
              "    </tr>\n",
              "    <tr>\n",
              "      <th>4</th>\n",
              "      <td>5</td>\n",
              "      <td>Очень удобно, работает быстро.</td>\n",
              "      <td>2017-08-14</td>\n",
              "      <td>очень удобно работать быстро</td>\n",
              "    </tr>\n",
              "  </tbody>\n",
              "</table>\n",
              "</div>\n",
              "      <button class=\"colab-df-convert\" onclick=\"convertToInteractive('df-c166a3ed-175b-4901-bc5b-ca6aae01d453')\"\n",
              "              title=\"Convert this dataframe to an interactive table.\"\n",
              "              style=\"display:none;\">\n",
              "        \n",
              "  <svg xmlns=\"http://www.w3.org/2000/svg\" height=\"24px\"viewBox=\"0 0 24 24\"\n",
              "       width=\"24px\">\n",
              "    <path d=\"M0 0h24v24H0V0z\" fill=\"none\"/>\n",
              "    <path d=\"M18.56 5.44l.94 2.06.94-2.06 2.06-.94-2.06-.94-.94-2.06-.94 2.06-2.06.94zm-11 1L8.5 8.5l.94-2.06 2.06-.94-2.06-.94L8.5 2.5l-.94 2.06-2.06.94zm10 10l.94 2.06.94-2.06 2.06-.94-2.06-.94-.94-2.06-.94 2.06-2.06.94z\"/><path d=\"M17.41 7.96l-1.37-1.37c-.4-.4-.92-.59-1.43-.59-.52 0-1.04.2-1.43.59L10.3 9.45l-7.72 7.72c-.78.78-.78 2.05 0 2.83L4 21.41c.39.39.9.59 1.41.59.51 0 1.02-.2 1.41-.59l7.78-7.78 2.81-2.81c.8-.78.8-2.07 0-2.86zM5.41 20L4 18.59l7.72-7.72 1.47 1.35L5.41 20z\"/>\n",
              "  </svg>\n",
              "      </button>\n",
              "      \n",
              "  <style>\n",
              "    .colab-df-container {\n",
              "      display:flex;\n",
              "      flex-wrap:wrap;\n",
              "      gap: 12px;\n",
              "    }\n",
              "\n",
              "    .colab-df-convert {\n",
              "      background-color: #E8F0FE;\n",
              "      border: none;\n",
              "      border-radius: 50%;\n",
              "      cursor: pointer;\n",
              "      display: none;\n",
              "      fill: #1967D2;\n",
              "      height: 32px;\n",
              "      padding: 0 0 0 0;\n",
              "      width: 32px;\n",
              "    }\n",
              "\n",
              "    .colab-df-convert:hover {\n",
              "      background-color: #E2EBFA;\n",
              "      box-shadow: 0px 1px 2px rgba(60, 64, 67, 0.3), 0px 1px 3px 1px rgba(60, 64, 67, 0.15);\n",
              "      fill: #174EA6;\n",
              "    }\n",
              "\n",
              "    [theme=dark] .colab-df-convert {\n",
              "      background-color: #3B4455;\n",
              "      fill: #D2E3FC;\n",
              "    }\n",
              "\n",
              "    [theme=dark] .colab-df-convert:hover {\n",
              "      background-color: #434B5C;\n",
              "      box-shadow: 0px 1px 3px 1px rgba(0, 0, 0, 0.15);\n",
              "      filter: drop-shadow(0px 1px 2px rgba(0, 0, 0, 0.3));\n",
              "      fill: #FFFFFF;\n",
              "    }\n",
              "  </style>\n",
              "\n",
              "      <script>\n",
              "        const buttonEl =\n",
              "          document.querySelector('#df-c166a3ed-175b-4901-bc5b-ca6aae01d453 button.colab-df-convert');\n",
              "        buttonEl.style.display =\n",
              "          google.colab.kernel.accessAllowed ? 'block' : 'none';\n",
              "\n",
              "        async function convertToInteractive(key) {\n",
              "          const element = document.querySelector('#df-c166a3ed-175b-4901-bc5b-ca6aae01d453');\n",
              "          const dataTable =\n",
              "            await google.colab.kernel.invokeFunction('convertToInteractive',\n",
              "                                                     [key], {});\n",
              "          if (!dataTable) return;\n",
              "\n",
              "          const docLinkHtml = 'Like what you see? Visit the ' +\n",
              "            '<a target=\"_blank\" href=https://colab.research.google.com/notebooks/data_table.ipynb>data table notebook</a>'\n",
              "            + ' to learn more about interactive tables.';\n",
              "          element.innerHTML = '';\n",
              "          dataTable['output_type'] = 'display_data';\n",
              "          await google.colab.output.renderOutput(dataTable, element);\n",
              "          const docLink = document.createElement('div');\n",
              "          docLink.innerHTML = docLinkHtml;\n",
              "          element.appendChild(docLink);\n",
              "        }\n",
              "      </script>\n",
              "    </div>\n",
              "  </div>\n",
              "  "
            ]
          },
          "metadata": {},
          "execution_count": 9
        }
      ],
      "source": [
        "data['normalized_content'] = data['Content'].apply(normalize_text)\n",
        "data.head()"
      ]
    },
    {
      "cell_type": "code",
      "execution_count": 10,
      "id": "01d6ca93",
      "metadata": {
        "id": "01d6ca93"
      },
      "outputs": [],
      "source": [
        "train_corpus = \" \".join(data['normalized_content'])\n",
        "train_tokens = word_tokenize(train_corpus)\n",
        "train_tokens_filtered = [word for word in train_tokens if word.isalnum()]"
      ]
    },
    {
      "cell_type": "code",
      "execution_count": 11,
      "id": "6b4f453e",
      "metadata": {
        "colab": {
          "base_uri": "https://localhost:8080/"
        },
        "id": "6b4f453e",
        "outputId": "9fcd3aaa-bc74-43c0-9431-226967f01c26"
      },
      "outputs": [
        {
          "output_type": "execute_result",
          "data": {
            "text/plain": [
              "['приложение', 'очень', 'удобно', 'работать', 'удобный', 'вс', 'спасибо']"
            ]
          },
          "metadata": {},
          "execution_count": 11
        }
      ],
      "source": [
        "dist = FreqDist(train_tokens_filtered)\n",
        "tokens_filtered_top = [pair[0] for pair in dist.most_common(max_words-1)]\n",
        "tokens_filtered_top[:7]"
      ]
    },
    {
      "cell_type": "code",
      "execution_count": 12,
      "id": "bd66cf42",
      "metadata": {
        "id": "bd66cf42"
      },
      "outputs": [],
      "source": [
        "voc = {v: k for k, v in dict(enumerate(tokens_filtered_top, 1)).items()}"
      ]
    },
    {
      "cell_type": "code",
      "execution_count": 13,
      "id": "29e4df25",
      "metadata": {
        "id": "29e4df25"
      },
      "outputs": [],
      "source": [
        "def text_to_sequence(text, maxlen):\n",
        "    result = []\n",
        "    tokens = word_tokenize(text.lower())\n",
        "    tokens_filtered = [word for word in tokens if word.isalnum()]\n",
        "    for word in tokens_filtered:\n",
        "        if word in voc:\n",
        "            result.append(voc[word])\n",
        "    padding = [0]*(maxlen-len(result))\n",
        "    return padding + result[-maxlen:]"
      ]
    },
    {
      "cell_type": "code",
      "execution_count": 14,
      "id": "dd8d580c",
      "metadata": {
        "id": "dd8d580c"
      },
      "outputs": [],
      "source": [
        "data_train = np.asarray(\n",
        "    [text_to_sequence(text, max_len) for text in data['normalized_content']], \n",
        "    dtype=np.int32)"
      ]
    },
    {
      "cell_type": "code",
      "execution_count": 15,
      "id": "370edaf1",
      "metadata": {
        "id": "370edaf1"
      },
      "outputs": [],
      "source": [
        "X_train, X_test, y_train, y_test = train_test_split(data_train, data.Rating, test_size=0.3, random_state=1)"
      ]
    },
    {
      "cell_type": "code",
      "execution_count": 16,
      "id": "89e3c431",
      "metadata": {
        "colab": {
          "base_uri": "https://localhost:8080/"
        },
        "id": "89e3c431",
        "outputId": "2f4e5726-0bd1-4cc5-d8f0-7f9a71e1e649"
      },
      "outputs": [
        {
          "output_type": "execute_result",
          "data": {
            "text/plain": [
              "(14461, 150)"
            ]
          },
          "metadata": {},
          "execution_count": 16
        }
      ],
      "source": [
        "X_train.shape"
      ]
    },
    {
      "cell_type": "code",
      "execution_count": 17,
      "id": "f6ef8b9a",
      "metadata": {
        "colab": {
          "base_uri": "https://localhost:8080/"
        },
        "id": "f6ef8b9a",
        "outputId": "ed935350-5797-4b65-ab55-1100ac548f93"
      },
      "outputs": [
        {
          "output_type": "execute_result",
          "data": {
            "text/plain": [
              "array([1, 2, 3, 4, 5])"
            ]
          },
          "metadata": {},
          "execution_count": 17
        }
      ],
      "source": [
        "le = LabelEncoder()\n",
        "\n",
        "y_train = le.fit_transform(y_train) \n",
        "y_test = le.transform(y_test)\n",
        "\n",
        "le.classes_"
      ]
    },
    {
      "cell_type": "markdown",
      "id": "0392bd86",
      "metadata": {
        "id": "0392bd86"
      },
      "source": [
        "### 2.1 предобученные эмбединги"
      ]
    },
    {
      "cell_type": "code",
      "execution_count": 22,
      "id": "12292ed2",
      "metadata": {
        "colab": {
          "base_uri": "https://localhost:8080/"
        },
        "id": "12292ed2",
        "outputId": "17052a1e-bd46-4c29-a344-b2004a6ee65e"
      },
      "outputs": [
        {
          "output_type": "stream",
          "name": "stdout",
          "text": [
            "Found 249947 word vectors.\n"
          ]
        }
      ],
      "source": [
        "embeddings_index = {}\n",
        "with open('/content/drive/MyDrive/model.txt') as f:\n",
        "    for line in f:\n",
        "        word, coefs = line.split(maxsplit=1)\n",
        "        coefs = np.fromstring(coefs, \"f\", sep=\" \")\n",
        "        emb_idxs[word] = coefs\n",
        "\n",
        "print(\"Found %s word vectors.\" % len(emb_idxs))"
      ]
    },
    {
      "cell_type": "code",
      "execution_count": 23,
      "id": "c298da08",
      "metadata": {
        "id": "c298da08"
      },
      "outputs": [],
      "source": [
        "embedding_dim = 200\n",
        "\n",
        "embedding_matrix = np.zeros((max_words, embedding_dim))\n",
        "for word in tokens_filtered_top:\n",
        "    embedding_vector = embeddings_index.get(word)\n",
        "    if embedding_vector is not None:\n",
        "        # words not found in embedding index will be all-zeros.\n",
        "        embedding_matrix[tokens_filtered_top.index(word)] = embedding_vector"
      ]
    },
    {
      "cell_type": "code",
      "execution_count": 24,
      "id": "05f95733",
      "metadata": {
        "id": "05f95733"
      },
      "outputs": [],
      "source": [
        "model = Sequential()\n",
        "\n",
        "model.add(Embedding(input_dim=max_words, \n",
        "                    weights=[embedding_matrix], \n",
        "                    output_dim=embedding_dim, \n",
        "                    input_length=max_len))\n",
        "model.add(Conv1D(128, 3))\n",
        "model.add(Activation(\"relu\"))\n",
        "\n",
        "model.add(GlobalMaxPool1D())\n",
        "\n",
        "model.add(Dense(10))\n",
        "model.add(Activation(\"relu\"))\n",
        "\n",
        "model.add(Dense(num_classes))\n",
        "model.add(Activation('softmax'))"
      ]
    },
    {
      "cell_type": "code",
      "execution_count": 25,
      "id": "c84d8331",
      "metadata": {
        "id": "c84d8331"
      },
      "outputs": [],
      "source": [
        "model.compile(loss=SparseCategoricalCrossentropy(),\n",
        "              optimizer='adam',\n",
        "              metrics=['accuracy'])"
      ]
    },
    {
      "cell_type": "code",
      "execution_count": 26,
      "id": "7584d467",
      "metadata": {
        "id": "7584d467",
        "colab": {
          "base_uri": "https://localhost:8080/"
        },
        "outputId": "411d0270-475f-4cb0-886c-21e6c3c9f9f2"
      },
      "outputs": [
        {
          "output_type": "stream",
          "name": "stdout",
          "text": [
            "Epoch 1/10\n",
            "26/26 [==============================] - 29s 1s/step - loss: 1.5973 - accuracy: 0.6807 - val_loss: 1.5834 - val_accuracy: 0.7091\n",
            "Epoch 2/10\n",
            "26/26 [==============================] - 26s 993ms/step - loss: 1.5716 - accuracy: 0.7051 - val_loss: 1.5578 - val_accuracy: 0.7091\n",
            "Epoch 3/10\n",
            "26/26 [==============================] - 25s 977ms/step - loss: 1.5466 - accuracy: 0.7051 - val_loss: 1.5329 - val_accuracy: 0.7091\n",
            "Epoch 4/10\n",
            "26/26 [==============================] - 25s 980ms/step - loss: 1.5222 - accuracy: 0.7051 - val_loss: 1.5089 - val_accuracy: 0.7091\n",
            "Epoch 5/10\n",
            "26/26 [==============================] - 25s 979ms/step - loss: 1.4986 - accuracy: 0.7051 - val_loss: 1.4853 - val_accuracy: 0.7091\n",
            "Epoch 6/10\n",
            "26/26 [==============================] - 26s 983ms/step - loss: 1.4755 - accuracy: 0.7051 - val_loss: 1.4625 - val_accuracy: 0.7091\n",
            "Epoch 7/10\n",
            "26/26 [==============================] - 25s 977ms/step - loss: 1.4532 - accuracy: 0.7051 - val_loss: 1.4403 - val_accuracy: 0.7091\n",
            "Epoch 8/10\n",
            "26/26 [==============================] - 28s 1s/step - loss: 1.4316 - accuracy: 0.7051 - val_loss: 1.4189 - val_accuracy: 0.7091\n",
            "Epoch 9/10\n",
            "26/26 [==============================] - 25s 977ms/step - loss: 1.4107 - accuracy: 0.7051 - val_loss: 1.3981 - val_accuracy: 0.7091\n",
            "Epoch 10/10\n",
            "26/26 [==============================] - 26s 985ms/step - loss: 1.3905 - accuracy: 0.7051 - val_loss: 1.3780 - val_accuracy: 0.7091\n"
          ]
        },
        {
          "output_type": "execute_result",
          "data": {
            "text/plain": [
              "<keras.callbacks.History at 0x7fa92afe6e10>"
            ]
          },
          "metadata": {},
          "execution_count": 26
        }
      ],
      "source": [
        "model.fit(X_train, y_train,\n",
        "          batch_size=batch_size,\n",
        "          epochs=10,\n",
        "          verbose=1,\n",
        "          validation_split=0.1)"
      ]
    },
    {
      "cell_type": "code",
      "execution_count": 27,
      "id": "ddba9d1f",
      "metadata": {
        "id": "ddba9d1f",
        "colab": {
          "base_uri": "https://localhost:8080/"
        },
        "outputId": "bc8101f2-3414-4a33-b1dc-435da06a2206"
      },
      "outputs": [
        {
          "output_type": "stream",
          "name": "stdout",
          "text": [
            "13/13 [==============================] - 3s 208ms/step - loss: 1.3789 - accuracy: 0.7073\n",
            "Test score: 1.378862977027893\n",
            "Test accuracy: 0.7073249220848083\n"
          ]
        }
      ],
      "source": [
        "score = model.evaluate(X_test, y_test, batch_size=batch_size, verbose=1)\n",
        "\n",
        "print('Test score:', score[0])\n",
        "print('Test accuracy:', score[1])"
      ]
    },
    {
      "cell_type": "markdown",
      "id": "9dbf9369",
      "metadata": {
        "id": "9dbf9369"
      },
      "source": [
        "### 2.2 эмбединги по умолчанию"
      ]
    },
    {
      "cell_type": "code",
      "execution_count": 28,
      "id": "469ab961",
      "metadata": {
        "id": "469ab961"
      },
      "outputs": [],
      "source": [
        "model = Sequential()\n",
        "\n",
        "model.add(Embedding(input_dim=max_words, \n",
        "                    output_dim=128, \n",
        "                    input_length=max_len))\n",
        "\n",
        "model.add(Conv1D(128, 3))\n",
        "model.add(Activation(\"relu\"))\n",
        "\n",
        "model.add(GlobalMaxPool1D())\n",
        "model.add(Flatten())\n",
        "\n",
        "model.add(Dense(10))\n",
        "model.add(Activation(\"relu\"))\n",
        "\n",
        "model.add(Dense(num_classes))\n",
        "model.add(Activation('softmax'))"
      ]
    },
    {
      "cell_type": "code",
      "execution_count": 29,
      "id": "ce748957",
      "metadata": {
        "id": "ce748957"
      },
      "outputs": [],
      "source": [
        "model.compile(loss=SparseCategoricalCrossentropy(),\n",
        "              optimizer='adam',\n",
        "              metrics=['accuracy'])"
      ]
    },
    {
      "cell_type": "code",
      "execution_count": 30,
      "id": "3c5cfb23",
      "metadata": {
        "id": "3c5cfb23",
        "colab": {
          "base_uri": "https://localhost:8080/"
        },
        "outputId": "1f8367e2-578d-4a59-cd43-2c5ec75a921d"
      },
      "outputs": [
        {
          "output_type": "stream",
          "name": "stdout",
          "text": [
            "Epoch 1/10\n",
            "26/26 [==============================] - 16s 587ms/step - loss: 1.1181 - accuracy: 0.6977 - val_loss: 0.9009 - val_accuracy: 0.7091\n",
            "Epoch 2/10\n",
            "26/26 [==============================] - 15s 575ms/step - loss: 0.7874 - accuracy: 0.7245 - val_loss: 0.6975 - val_accuracy: 0.7560\n",
            "Epoch 3/10\n",
            "26/26 [==============================] - 15s 576ms/step - loss: 0.6441 - accuracy: 0.7769 - val_loss: 0.6613 - val_accuracy: 0.7713\n",
            "Epoch 4/10\n",
            "26/26 [==============================] - 15s 576ms/step - loss: 0.5985 - accuracy: 0.7894 - val_loss: 0.6494 - val_accuracy: 0.7740\n",
            "Epoch 5/10\n",
            "26/26 [==============================] - 15s 575ms/step - loss: 0.5653 - accuracy: 0.7947 - val_loss: 0.6448 - val_accuracy: 0.7740\n",
            "Epoch 6/10\n",
            "26/26 [==============================] - 15s 577ms/step - loss: 0.5324 - accuracy: 0.8053 - val_loss: 0.6416 - val_accuracy: 0.7789\n",
            "Epoch 7/10\n",
            "26/26 [==============================] - 19s 719ms/step - loss: 0.5015 - accuracy: 0.8193 - val_loss: 0.6401 - val_accuracy: 0.7809\n",
            "Epoch 8/10\n",
            "26/26 [==============================] - 15s 579ms/step - loss: 0.4710 - accuracy: 0.8364 - val_loss: 0.6506 - val_accuracy: 0.7795\n",
            "Epoch 9/10\n",
            "26/26 [==============================] - 15s 579ms/step - loss: 0.4432 - accuracy: 0.8489 - val_loss: 0.6602 - val_accuracy: 0.7795\n",
            "Epoch 10/10\n",
            "26/26 [==============================] - 15s 578ms/step - loss: 0.4141 - accuracy: 0.8547 - val_loss: 0.6785 - val_accuracy: 0.7754\n"
          ]
        },
        {
          "output_type": "execute_result",
          "data": {
            "text/plain": [
              "<keras.callbacks.History at 0x7fa92aefe490>"
            ]
          },
          "metadata": {},
          "execution_count": 30
        }
      ],
      "source": [
        "model.fit(X_train, y_train,\n",
        "          batch_size=batch_size,\n",
        "          epochs=10,\n",
        "          verbose=1,\n",
        "          validation_split=0.1)"
      ]
    },
    {
      "cell_type": "code",
      "execution_count": 31,
      "id": "9c262cd5",
      "metadata": {
        "id": "9c262cd5",
        "colab": {
          "base_uri": "https://localhost:8080/"
        },
        "outputId": "ca065471-7121-459b-924d-e3f9c596bc23"
      },
      "outputs": [
        {
          "output_type": "stream",
          "name": "stdout",
          "text": [
            "13/13 [==============================] - 2s 140ms/step - loss: 0.6806 - accuracy: 0.7701\n",
            "Test score: 0.6805828213691711\n",
            "Test accuracy: 0.7700871229171753\n"
          ]
        }
      ],
      "source": [
        "score = model.evaluate(X_test, y_test, batch_size=batch_size, verbose=1)\n",
        "\n",
        "print('Test score:', score[0])\n",
        "print('Test accuracy:', score[1])"
      ]
    },
    {
      "cell_type": "markdown",
      "id": "1db7e30b",
      "metadata": {
        "id": "1db7e30b"
      },
      "source": [
        "Точность на предобученных эмбедингах ниже. "
      ]
    }
  ],
  "metadata": {
    "kernelspec": {
      "display_name": "Python 3",
      "language": "python",
      "name": "python3"
    },
    "language_info": {
      "codemirror_mode": {
        "name": "ipython",
        "version": 3
      },
      "file_extension": ".py",
      "mimetype": "text/x-python",
      "name": "python",
      "nbconvert_exporter": "python",
      "pygments_lexer": "ipython3",
      "version": "3.6.13"
    },
    "colab": {
      "provenance": [],
      "collapsed_sections": []
    }
  },
  "nbformat": 4,
  "nbformat_minor": 5
}