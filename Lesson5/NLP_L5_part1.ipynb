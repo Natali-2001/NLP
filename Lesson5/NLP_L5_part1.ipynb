{
  "cells": [
    {
      "cell_type": "markdown",
      "metadata": {
        "id": "IkpcHsV8RWHA"
      },
      "source": [
        "## Задание 1"
      ]
    },
    {
      "cell_type": "markdown",
      "metadata": {
        "id": "aAQBOJRARev7"
      },
      "source": [
        "**Написать теггер на данных с русским языком**\n",
        "1. проверить UnigramTagger, BigramTagger, TrigramTagger и их комбмнации\n",
        "2. написать свой теггер как на занятии, попробовать разные векторайзеры, добавить знание не только букв но и слов\n",
        "3. сравнить все реализованные методы сделать выводы\n"
      ]
    },
    {
      "cell_type": "markdown",
      "metadata": {
        "id": "_16J0ER8WOJx"
      },
      "source": [
        "## загрузка данных"
      ]
    },
    {
      "cell_type": "code",
      "execution_count": 1,
      "metadata": {
        "colab": {
          "base_uri": "https://localhost:8080/"
        },
        "id": "yPRx8Cu_RDY1",
        "outputId": "2a17a280-d83e-4ce4-e524-5c6942032cd0"
      },
      "outputs": [
        {
          "output_type": "stream",
          "name": "stdout",
          "text": [
            "Looking in indexes: https://pypi.org/simple, https://us-python.pkg.dev/colab-wheels/public/simple/\n",
            "Collecting pyconll\n",
            "  Downloading pyconll-3.1.0-py3-none-any.whl (26 kB)\n",
            "Installing collected packages: pyconll\n",
            "Successfully installed pyconll-3.1.0\n"
          ]
        }
      ],
      "source": [
        "!pip install pyconll"
      ]
    },
    {
      "cell_type": "code",
      "execution_count": 2,
      "metadata": {
        "colab": {
          "base_uri": "https://localhost:8080/"
        },
        "id": "KKD2ongnvwES",
        "outputId": "f0ac0ab9-76c0-4116-fc77-f2381ce202f2"
      },
      "outputs": [
        {
          "output_type": "stream",
          "name": "stdout",
          "text": [
            "Mounted at /content/drive\n"
          ]
        }
      ],
      "source": [
        "from google.colab import drive\n",
        "drive.mount('/content/drive')"
      ]
    },
    {
      "cell_type": "code",
      "execution_count": 3,
      "metadata": {
        "id": "9wgL-33mWUyZ"
      },
      "outputs": [],
      "source": [
        "import pyconll\n",
        "\n",
        "import warnings\n",
        "warnings.filterwarnings(\"ignore\")\n",
        "\n",
        "import nltk\n",
        "from nltk.corpus import brown\n",
        "from nltk.tag import DefaultTagger\n",
        "from nltk.tag import UnigramTagger\n",
        "from nltk.tag import BigramTagger, TrigramTagger\n",
        "\n",
        "from sklearn.feature_extraction.text import CountVectorizer, HashingVectorizer, TfidfVectorizer\n",
        "from sklearn.preprocessing import StandardScaler\n",
        "from sklearn.linear_model import LogisticRegression\n",
        "from sklearn.metrics import accuracy_score\n",
        "import xgboost as xgb\n",
        "from sklearn.preprocessing import LabelEncoder"
      ]
    },
    {
      "cell_type": "code",
      "execution_count": 4,
      "metadata": {
        "id": "vXxwW9NzW570"
      },
      "outputs": [],
      "source": [
        "MY_DRIVE_PATH = '/content/drive/MyDrive/datasets'\n",
        "\n",
        "TRAIN_PATH = MY_DRIVE_PATH + '/ru_syntagrus-ud-train-a.conllu'\n",
        "TEST_PATH = MY_DRIVE_PATH + '/ru_syntagrus-ud-test.conllu'\n"
      ]
    },
    {
      "cell_type": "code",
      "execution_count": 5,
      "metadata": {
        "colab": {
          "base_uri": "https://localhost:8080/"
        },
        "id": "tpwgA3svWiRw",
        "outputId": "ee9b7767-1bf8-4954-a587-aee62d09ff0c"
      },
      "outputs": [
        {
          "output_type": "stream",
          "name": "stdout",
          "text": [
            "--2022-11-08 15:39:32--  https://raw.githubusercontent.com/UniversalDependencies/UD_Russian-SynTagRus/master/ru_syntagrus-ud-train-a.conllu\n",
            "Resolving raw.githubusercontent.com (raw.githubusercontent.com)... 185.199.108.133, 185.199.109.133, 185.199.110.133, ...\n",
            "Connecting to raw.githubusercontent.com (raw.githubusercontent.com)|185.199.108.133|:443... connected.\n",
            "HTTP request sent, awaiting response... 200 OK\n",
            "Length: 40736565 (39M) [text/plain]\n",
            "Saving to: ‘/content/drive/MyDrive/datasets/ru_syntagrus-ud-train-a.conllu’\n",
            "\n",
            "/content/drive/MyDr 100%[===================>]  38.85M  55.9MB/s    in 0.7s    \n",
            "\n",
            "2022-11-08 15:39:33 (55.9 MB/s) - ‘/content/drive/MyDrive/datasets/ru_syntagrus-ud-train-a.conllu’ saved [40736565/40736565]\n",
            "\n",
            "--2022-11-08 15:39:34--  https://raw.githubusercontent.com/UniversalDependencies/UD_Russian-SynTagRus/master/ru_syntagrus-ud-test.conllu\n",
            "Resolving raw.githubusercontent.com (raw.githubusercontent.com)... 185.199.111.133, 185.199.110.133, 185.199.109.133, ...\n",
            "Connecting to raw.githubusercontent.com (raw.githubusercontent.com)|185.199.111.133|:443... connected.\n",
            "HTTP request sent, awaiting response... 200 OK\n",
            "Length: 14970938 (14M) [text/plain]\n",
            "Saving to: ‘/content/drive/MyDrive/datasets/ru_syntagrus-ud-test.conllu’\n",
            "\n",
            "/content/drive/MyDr 100%[===================>]  14.28M  66.8MB/s    in 0.2s    \n",
            "\n",
            "2022-11-08 15:39:34 (66.8 MB/s) - ‘/content/drive/MyDrive/datasets/ru_syntagrus-ud-test.conllu’ saved [14970938/14970938]\n",
            "\n"
          ]
        }
      ],
      "source": [
        "!wget -O $TRAIN_PATH https://raw.githubusercontent.com/UniversalDependencies/UD_Russian-SynTagRus/master/ru_syntagrus-ud-train-a.conllu\n",
        "!wget -O $TEST_PATH https://raw.githubusercontent.com/UniversalDependencies/UD_Russian-SynTagRus/master/ru_syntagrus-ud-test.conllu\n"
      ]
    },
    {
      "cell_type": "code",
      "execution_count": 6,
      "metadata": {
        "id": "qQJgvb2N0EO8"
      },
      "outputs": [],
      "source": [
        "full_train = pyconll.load_from_file(TRAIN_PATH.replace('\\\\', ''))\n",
        "full_test = pyconll.load_from_file(TEST_PATH.replace('\\\\', ''))"
      ]
    },
    {
      "cell_type": "code",
      "execution_count": 7,
      "metadata": {
        "id": "XBzFe82cXGNK",
        "colab": {
          "base_uri": "https://localhost:8080/"
        },
        "outputId": "4a287e7c-7153-4a3d-ae18-759d79fcd6e1"
      },
      "outputs": [
        {
          "output_type": "stream",
          "name": "stdout",
          "text": [
            "Анкета NOUN\n",
            ". PUNCT\n",
            "\n",
            "Начальник NOUN\n",
            "областного ADJ\n",
            "управления NOUN\n",
            "связи NOUN\n",
            "Семен PROPN\n",
            "Еремеевич PROPN\n",
            "был AUX\n",
            "человек NOUN\n",
            "простой ADJ\n",
            ", PUNCT\n",
            "приходил VERB\n",
            "на ADP\n",
            "работу NOUN\n",
            "всегда ADV\n",
            "вовремя ADV\n",
            ", PUNCT\n",
            "здоровался VERB\n",
            "с ADP\n",
            "секретаршей NOUN\n",
            "за ADP\n",
            "руку NOUN\n",
            "и CCONJ\n",
            "иногда ADV\n",
            "даже PART\n",
            "писал VERB\n",
            "в ADP\n",
            "стенгазету NOUN\n",
            "заметки NOUN\n",
            "под ADP\n",
            "псевдонимом NOUN\n",
            "\" PUNCT\n",
            "Муха NOUN\n",
            "\" PUNCT\n",
            ". PUNCT\n",
            "\n"
          ]
        }
      ],
      "source": [
        "for sent in full_train[:2]:\n",
        "    for token in sent:\n",
        "        print(token.form, token.upos)\n",
        "    print()"
      ]
    },
    {
      "cell_type": "code",
      "execution_count": 8,
      "metadata": {
        "colab": {
          "base_uri": "https://localhost:8080/"
        },
        "id": "OshO48XLXQar",
        "outputId": "cb5b4068-0099-41b1-cdbe-484cc627c227"
      },
      "outputs": [
        {
          "output_type": "stream",
          "name": "stdout",
          "text": [
            "Наибольшая длина предложения 194\n",
            "Наибольшая длина токена 31\n"
          ]
        }
      ],
      "source": [
        "fdata_train = [[(token.form, token.upos) for token in sent] for sent in full_test[:]]\n",
        "\n",
        "fdata_test = [[(token.form, token.upos) for token in sent] for sent in full_test[:]]\n",
        "\n",
        "fdata_sent_test = [[token.form for token in sent] for sent in full_test[:]]\n",
        "    \n",
        "MAX_SENT_LEN = max(len(sent) for sent in full_train)\n",
        "MAX_ORIG_TOKEN_LEN = max(len(token.form) for sent in full_train for token in sent)\n",
        "\n",
        "print('Наибольшая длина предложения', MAX_SENT_LEN)\n",
        "print('Наибольшая длина токена', MAX_ORIG_TOKEN_LEN)"
      ]
    },
    {
      "cell_type": "code",
      "execution_count": 9,
      "metadata": {
        "id": "dj4tV8ytXTry",
        "colab": {
          "base_uri": "https://localhost:8080/"
        },
        "outputId": "5932a2df-bcb5-49e7-f4ca-7a83aae377a9"
      },
      "outputs": [
        {
          "output_type": "stream",
          "name": "stdout",
          "text": [
            "Анкета .\n",
            "Начальник областного управления связи Семен Еремеевич был человек простой , приходил на работу всегда вовремя , здоровался с секретаршей за руку и иногда даже писал в стенгазету заметки под псевдонимом \" Муха \" .\n",
            "В приемной его с утра ожидали посетители , - кое-кто с важными делами , а кое-кто и с такими , которые легко можно было решить в нижестоящих инстанциях , не затрудняя Семена Еремеевича .\n",
            "Однако стиль работы Семена Еремеевича заключался в том , чтобы принимать всех желающих и лично вникать в дело .\n",
            "Приемная была обставлена просто , но по-деловому .\n",
            "У двери стоял стол секретарши , на столе - пишущая машинка с широкой кареткой .\n",
            "В углу висел репродуктор и играло радио для развлечения ожидающих и еще для того , чтобы заглушать голос начальника , доносившийся из кабинета , так как , бесспорно , среди посетителей могли находиться и случайные люди .\n",
            "Кабинет отличался скромностью , присущей Семену Еремеевичу .\n",
            "В глубине стоял широкий письменный стол с бронзовыми чернильницами и перед ним два кожаных кресла .\n",
            "Справа был стол для заседаний - длинный , накрытый зеленым сукном и с обеих сторон аккуратно заставленный стульями .\n"
          ]
        }
      ],
      "source": [
        "train_texts = [' '.join(token.form for token in sent) for sent in full_train]\n",
        "test_texts = [' '.join(str(token.form for token in sent)) for sent in full_test]\n",
        "\n",
        "train_labels = [' '.join(token.form for token in sent) for sent in full_train]\n",
        "test_labels = [' '.join(str(token.form for token in sent)) for sent in full_test]\n",
        "\n",
        "print('\\n'.join(train_texts[:10]))"
      ]
    },
    {
      "cell_type": "markdown",
      "metadata": {
        "id": "gxiUPMIQT7g8"
      },
      "source": [
        "### Default Tagger"
      ]
    },
    {
      "cell_type": "code",
      "execution_count": 10,
      "metadata": {
        "id": "MSMqIS0UT3mS",
        "colab": {
          "base_uri": "https://localhost:8080/"
        },
        "outputId": "c1bccff0-740f-4c78-90f9-a0b3ff471402"
      },
      "outputs": [
        {
          "output_type": "execute_result",
          "data": {
            "text/plain": [
              "0.23145915221945831"
            ]
          },
          "metadata": {},
          "execution_count": 10
        }
      ],
      "source": [
        "default_tagger = nltk.DefaultTagger('NOUN')\n",
        "\n",
        "default_tagger.evaluate(fdata_test)"
      ]
    },
    {
      "cell_type": "markdown",
      "metadata": {
        "id": "3ASYKDieVy7G"
      },
      "source": [
        "### Unigram Tagger"
      ]
    },
    {
      "cell_type": "code",
      "execution_count": 11,
      "metadata": {
        "id": "cgS4Yg29VvVa",
        "colab": {
          "base_uri": "https://localhost:8080/"
        },
        "outputId": "7f96fb4a-ee13-4971-94e5-8e810a2149e6"
      },
      "outputs": [
        {
          "output_type": "execute_result",
          "data": {
            "text/plain": [
              "0.972295539562881"
            ]
          },
          "metadata": {},
          "execution_count": 11
        }
      ],
      "source": [
        "unigram_tagger = UnigramTagger(fdata_train)\n",
        "unigram_tagger.evaluate(fdata_test)"
      ]
    },
    {
      "cell_type": "markdown",
      "metadata": {
        "id": "VnqCC6umV6P4"
      },
      "source": [
        "### Bigram Tagger"
      ]
    },
    {
      "cell_type": "code",
      "execution_count": 12,
      "metadata": {
        "id": "ChTwcKo1V2Lr",
        "colab": {
          "base_uri": "https://localhost:8080/"
        },
        "outputId": "f875e2a9-89d0-48ee-bd09-c75da80de3eb"
      },
      "outputs": [
        {
          "output_type": "execute_result",
          "data": {
            "text/plain": [
              "0.9808277791491813"
            ]
          },
          "metadata": {},
          "execution_count": 12
        }
      ],
      "source": [
        "bigram_tagger = BigramTagger(fdata_train, backoff=unigram_tagger)\n",
        "bigram_tagger.evaluate(fdata_test)"
      ]
    },
    {
      "cell_type": "markdown",
      "metadata": {
        "id": "D-8108bfWDyh"
      },
      "source": [
        "### Trigram Tagger"
      ]
    },
    {
      "cell_type": "code",
      "execution_count": 13,
      "metadata": {
        "id": "qFFoGNAoV-Ij",
        "colab": {
          "base_uri": "https://localhost:8080/"
        },
        "outputId": "4ea3a6c9-2d41-4080-e8ce-c7db60a9dc41"
      },
      "outputs": [
        {
          "output_type": "execute_result",
          "data": {
            "text/plain": [
              "0.9854356948901506"
            ]
          },
          "metadata": {},
          "execution_count": 13
        }
      ],
      "source": [
        "trigram_tagger = TrigramTagger(fdata_train, backoff=bigram_tagger)\n",
        "trigram_tagger.evaluate(fdata_test)"
      ]
    },
    {
      "cell_type": "code",
      "execution_count": 14,
      "metadata": {
        "id": "2Z7CS8MUWCjb",
        "colab": {
          "base_uri": "https://localhost:8080/"
        },
        "outputId": "0a7942e0-2b8f-4260-af35-b209230dfe30"
      },
      "outputs": [
        {
          "output_type": "execute_result",
          "data": {
            "text/plain": [
              "[('С', 'ADP'),\n",
              " ('одной', 'NUM'),\n",
              " ('стороны', 'NOUN'),\n",
              " (',', 'PUNCT'),\n",
              " ('квалифицированные', 'VERB'),\n",
              " ('кадры', 'NOUN'),\n",
              " ('и', 'CCONJ'),\n",
              " ('развитая', 'VERB'),\n",
              " ('производственная', 'ADJ'),\n",
              " ('инфраструктура', 'NOUN'),\n",
              " ('резко', 'ADV'),\n",
              " ('отличали', 'VERB'),\n",
              " ('Армению', 'PROPN'),\n",
              " ('от', 'ADP'),\n",
              " ('других', 'ADJ'),\n",
              " ('регионов', 'NOUN'),\n",
              " ('СССР', 'PROPN'),\n",
              " (',', 'PUNCT'),\n",
              " ('где', 'ADV'),\n",
              " ('доминировали', 'VERB'),\n",
              " ('добывающие', 'VERB'),\n",
              " ('отрасли', 'NOUN'),\n",
              " (',', 'PUNCT'),\n",
              " ('а', 'CCONJ'),\n",
              " ('экономика', 'NOUN'),\n",
              " ('строилась', 'VERB'),\n",
              " ('на', 'ADP'),\n",
              " ('поставке', 'NOUN'),\n",
              " ('сырьевых', 'ADJ'),\n",
              " ('ресурсов', 'NOUN'),\n",
              " ('.', 'PUNCT')]"
            ]
          },
          "metadata": {},
          "execution_count": 14
        }
      ],
      "source": [
        "trigram_tagger.tag(fdata_sent_test[2])"
      ]
    },
    {
      "cell_type": "markdown",
      "metadata": {
        "id": "GzZMEdMYWT6G"
      },
      "source": [
        "### Комбинация тэггеров"
      ]
    },
    {
      "cell_type": "code",
      "execution_count": 15,
      "metadata": {
        "id": "SLFJgQ1OWVwh",
        "colab": {
          "base_uri": "https://localhost:8080/"
        },
        "outputId": "a071a7d3-c0f4-47a4-c651-c5ce8175ac4c"
      },
      "outputs": [
        {
          "output_type": "execute_result",
          "data": {
            "text/plain": [
              "0.9836444309413946"
            ]
          },
          "metadata": {},
          "execution_count": 15
        }
      ],
      "source": [
        "def backoff_tagger(train_sents, tagger_classes, backoff=None):\n",
        "    for cls in tagger_classes:\n",
        "        backoff = cls(train_sents, backoff=backoff)\n",
        "    return backoff\n",
        "\n",
        "\n",
        "backoff = DefaultTagger('NOUN') \n",
        "tags = backoff_tagger(fdata_train,  \n",
        "                     [UnigramTagger, BigramTagger, TrigramTagger],  \n",
        "                     backoff = backoff) \n",
        "  \n",
        "tags.evaluate(fdata_test)"
      ]
    },
    {
      "cell_type": "markdown",
      "metadata": {
        "id": "iaheLFG5WeFU"
      },
      "source": [
        "### 2. написать свой теггер как на занятии, попробовать разные векторайзеры, добавить знание не только букв но и слов"
      ]
    },
    {
      "cell_type": "code",
      "execution_count": 16,
      "metadata": {
        "id": "fpgR3ZmzWZwr",
        "colab": {
          "base_uri": "https://localhost:8080/"
        },
        "outputId": "c351ea62-c3f2-4ca2-be68-344acde06c87"
      },
      "outputs": [
        {
          "output_type": "stream",
          "name": "stdout",
          "text": [
            "Анкета .\n",
            "Начальник областного управления связи Семен Еремеевич был человек простой , приходил на работу всегда вовремя , здоровался с секретаршей за руку и иногда даже писал в стенгазету заметки под псевдонимом \" Муха \" .\n",
            "В приемной его с утра ожидали посетители , - кое-кто с важными делами , а кое-кто и с такими , которые легко можно было решить в нижестоящих инстанциях , не затрудняя Семена Еремеевича .\n",
            "Однако стиль работы Семена Еремеевича заключался в том , чтобы принимать всех желающих и лично вникать в дело .\n",
            "Приемная была обставлена просто , но по-деловому .\n",
            "У двери стоял стол секретарши , на столе - пишущая машинка с широкой кареткой .\n",
            "В углу висел репродуктор и играло радио для развлечения ожидающих и еще для того , чтобы заглушать голос начальника , доносившийся из кабинета , так как , бесспорно , среди посетителей могли находиться и случайные люди .\n",
            "Кабинет отличался скромностью , присущей Семену Еремеевичу .\n",
            "В глубине стоял широкий письменный стол с бронзовыми чернильницами и перед ним два кожаных кресла .\n",
            "Справа был стол для заседаний - длинный , накрытый зеленым сукном и с обеих сторон аккуратно заставленный стульями .\n"
          ]
        }
      ],
      "source": [
        "all_train_texts = [' '.join(token.form for token in sent) for sent in full_train]\n",
        "all_test_texts = [' '.join(str(token.form for token in sent)) for sent in full_test]\n",
        "\n",
        "all_train_labels = [' '.join(token.form for token in sent) for sent in full_train]\n",
        "all_test_labels = [' '.join(str(token.form for token in sent)) for sent in full_test]\n",
        "print('\\n'.join(all_train_texts[:10]))"
      ]
    },
    {
      "cell_type": "code",
      "execution_count": 17,
      "metadata": {
        "id": "RUszDuDyWhuL"
      },
      "outputs": [],
      "source": [
        "fdata_train = []\n",
        "for sent in full_train[:]:\n",
        "    fdata_train.append([(token.form, token.upos) for token in sent])\n",
        "    \n",
        "fdata_test = []\n",
        "for sent in full_test[:]:\n",
        "    fdata_test.append([(token.form, token.upos) for token in sent])\n",
        "    \n",
        "fdata_sent_test = []\n",
        "for sent in full_test[:]:\n",
        "    fdata_sent_test.append([token.form for token in sent])"
      ]
    },
    {
      "cell_type": "code",
      "execution_count": 18,
      "metadata": {
        "id": "YOglIpSFWj3z"
      },
      "outputs": [],
      "source": [
        "train_tok = []\n",
        "train_label = []\n",
        "for sent in fdata_train[:]:\n",
        "    for tok in sent:\n",
        "        train_tok.append(tok[0])\n",
        "        train_label.append('NO_TAG' if tok[1] is None else tok[1])\n",
        "        \n",
        "test_tok = []\n",
        "test_label = []\n",
        "for sent in fdata_test[:]:\n",
        "    for tok in sent:\n",
        "        test_tok.append(str(tok[0]))\n",
        "        test_label.append('NO_TAG' if tok[1] is None else tok[1])"
      ]
    },
    {
      "cell_type": "code",
      "execution_count": 19,
      "metadata": {
        "id": "ITv6QomSWoqy"
      },
      "outputs": [],
      "source": [
        "le = LabelEncoder()\n",
        "train_enc_labels = le.fit_transform(train_label)"
      ]
    },
    {
      "cell_type": "code",
      "execution_count": 20,
      "metadata": {
        "id": "DS3So0iNXVop"
      },
      "outputs": [],
      "source": [
        "test_enc_labels = le.transform(test_label)"
      ]
    },
    {
      "cell_type": "code",
      "source": [
        "le.classes_"
      ],
      "metadata": {
        "colab": {
          "base_uri": "https://localhost:8080/"
        },
        "id": "aeHdIoz_bpiM",
        "outputId": "21c19b7b-5ed4-4d17-aa1b-8847496ec2f0"
      },
      "execution_count": 21,
      "outputs": [
        {
          "output_type": "execute_result",
          "data": {
            "text/plain": [
              "array(['ADJ', 'ADP', 'ADV', 'AUX', 'CCONJ', 'DET', 'INTJ', 'NOUN',\n",
              "       'NO_TAG', 'NUM', 'PART', 'PRON', 'PROPN', 'PUNCT', 'SCONJ', 'SYM',\n",
              "       'VERB', 'X'], dtype='<U6')"
            ]
          },
          "metadata": {},
          "execution_count": 21
        }
      ]
    },
    {
      "cell_type": "code",
      "source": [
        "hvectorizer = HashingVectorizer(ngram_range=(1, 5), analyzer='char', n_features=100)"
      ],
      "metadata": {
        "id": "41jqvguubpJy"
      },
      "execution_count": 22,
      "outputs": []
    },
    {
      "cell_type": "code",
      "source": [
        "X_train = hvectorizer.fit_transform(train_tok)"
      ],
      "metadata": {
        "id": "JkZpVcUubx3d"
      },
      "execution_count": 23,
      "outputs": []
    },
    {
      "cell_type": "code",
      "source": [
        "X_test = hvectorizer.transform(test_tok)"
      ],
      "metadata": {
        "id": "3GjjK-4zbxsl"
      },
      "execution_count": 24,
      "outputs": []
    },
    {
      "cell_type": "code",
      "source": [
        "X_train.shape"
      ],
      "metadata": {
        "colab": {
          "base_uri": "https://localhost:8080/"
        },
        "id": "1vQzzO8ybxgX",
        "outputId": "587eea27-42c3-4075-9710-34f0770e406a"
      },
      "execution_count": 25,
      "outputs": [
        {
          "output_type": "execute_result",
          "data": {
            "text/plain": [
              "(426182, 100)"
            ]
          },
          "metadata": {},
          "execution_count": 25
        }
      ]
    },
    {
      "cell_type": "code",
      "source": [
        "lr = LogisticRegression(random_state=0)\n",
        "lr.fit(X_train, train_enc_labels)"
      ],
      "metadata": {
        "colab": {
          "base_uri": "https://localhost:8080/"
        },
        "id": "7hHLA8_9bo-8",
        "outputId": "bdb3bd6e-6d1b-4ad6-d324-f16c95629b42"
      },
      "execution_count": 26,
      "outputs": [
        {
          "output_type": "execute_result",
          "data": {
            "text/plain": [
              "LogisticRegression(random_state=0)"
            ]
          },
          "metadata": {},
          "execution_count": 26
        }
      ]
    },
    {
      "cell_type": "code",
      "source": [
        "pred = lr.predict(X_test)"
      ],
      "metadata": {
        "id": "6JLMFbblce7y"
      },
      "execution_count": 27,
      "outputs": []
    },
    {
      "cell_type": "code",
      "source": [
        "accuracy_score(test_enc_labels, pred)"
      ],
      "metadata": {
        "colab": {
          "base_uri": "https://localhost:8080/"
        },
        "id": "lYT0vQpqcewh",
        "outputId": "5ef261e5-9506-4097-c8d0-565c51b799ee"
      },
      "execution_count": 28,
      "outputs": [
        {
          "output_type": "execute_result",
          "data": {
            "text/plain": [
              "0.6776927507611289"
            ]
          },
          "metadata": {},
          "execution_count": 28
        }
      ]
    },
    {
      "cell_type": "code",
      "source": [
        "classifier = LogisticRegression()"
      ],
      "metadata": {
        "id": "6FI5FlpgcekX"
      },
      "execution_count": 29,
      "outputs": []
    },
    {
      "cell_type": "code",
      "source": [
        "def get_model_accuracy(model):\n",
        "    X_train = model.fit_transform(train_tok)\n",
        "    X_test = model.transform(test_tok)\n",
        "    \n",
        "    classifier.fit(X_train, train_enc_labels)\n",
        "    pred = classifier.predict(X_test)\n",
        "    \n",
        "    return accuracy_score(test_enc_labels, pred) "
      ],
      "metadata": {
        "id": "6g0S7MGsceYa"
      },
      "execution_count": 30,
      "outputs": []
    },
    {
      "cell_type": "code",
      "source": [
        "count_vectorizer_char = CountVectorizer(ngram_range=(1,5), analyzer='char', max_features=100)\n",
        "accuracy_score_ = get_model_accuracy(count_vectorizer_char)\n",
        "print(f'count_vectorizer_char {accuracy_score_}')"
      ],
      "metadata": {
        "colab": {
          "base_uri": "https://localhost:8080/"
        },
        "id": "Ng6prkEuceLW",
        "outputId": "4950983b-66bc-4d8f-bc6f-8891192367f1"
      },
      "execution_count": 31,
      "outputs": [
        {
          "output_type": "stream",
          "name": "stdout",
          "text": [
            "count_vectorizer_char 0.7731804112944572\n"
          ]
        }
      ]
    },
    {
      "cell_type": "code",
      "source": [
        "model = CountVectorizer(ngram_range=(1,5), analyzer='word', max_features=100)\n",
        "accuracy_score_ = get_model_accuracy(model)\n",
        "print(f'count_vectorizer_word {accuracy_score_}')"
      ],
      "metadata": {
        "colab": {
          "base_uri": "https://localhost:8080/"
        },
        "id": "61W0bMFAcqZe",
        "outputId": "a27edb60-b653-44b1-acd9-3b959b2f85e0"
      },
      "execution_count": 32,
      "outputs": [
        {
          "output_type": "stream",
          "name": "stdout",
          "text": [
            "count_vectorizer_word 0.3774946357024856\n"
          ]
        }
      ]
    },
    {
      "cell_type": "code",
      "source": [
        "model = TfidfVectorizer(ngram_range=(1,5),analyzer='char', max_features=100)\n",
        "accuracy_score_ = get_model_accuracy(model)\n",
        "print(f'TfidfVectorizer_char {accuracy_score_}')"
      ],
      "metadata": {
        "colab": {
          "base_uri": "https://localhost:8080/"
        },
        "id": "VOZgKbJIcqOR",
        "outputId": "4f23e0a0-c353-4c9c-e10e-c4966bac33f2"
      },
      "execution_count": 33,
      "outputs": [
        {
          "output_type": "stream",
          "name": "stdout",
          "text": [
            "TfidfVectorizer_char 0.77073087366842\n"
          ]
        }
      ]
    },
    {
      "cell_type": "code",
      "source": [
        "model = TfidfVectorizer(ngram_range=(1,5),analyzer='word', max_features=100)\n",
        "accuracy_score_ = get_model_accuracy(model)\n",
        "print(f'TfidfVectorizer_word {accuracy_score_}')"
      ],
      "metadata": {
        "colab": {
          "base_uri": "https://localhost:8080/"
        },
        "id": "vBeM6siHcqDi",
        "outputId": "da348b23-991d-4c90-a6d4-4a3c144e0cff"
      },
      "execution_count": 34,
      "outputs": [
        {
          "output_type": "stream",
          "name": "stdout",
          "text": [
            "TfidfVectorizer_word 0.37748830614789636\n"
          ]
        }
      ]
    },
    {
      "cell_type": "markdown",
      "metadata": {
        "id": "0v0xHQY0azKV"
      },
      "source": [
        "### 3.сравнить все реализованные методы, сделать выводы\n",
        "\n",
        "Из одиночных теггеров лучший результат показал триграммный (0.9854) теггеры.\n",
        "\n",
        "Комбинация теггеров чуть хуже триграммного (0.9836)\n",
        "\n",
        "У векторайзеров дела хуже, чем у теггеров. "
      ]
    }
  ],
  "metadata": {
    "colab": {
      "collapsed_sections": [],
      "provenance": []
    },
    "kernelspec": {
      "display_name": "Python 3",
      "language": "python",
      "name": "python3"
    },
    "language_info": {
      "codemirror_mode": {
        "name": "ipython",
        "version": 3
      },
      "file_extension": ".py",
      "mimetype": "text/x-python",
      "name": "python",
      "nbconvert_exporter": "python",
      "pygments_lexer": "ipython3",
      "version": "3.8.5"
    }
  },
  "nbformat": 4,
  "nbformat_minor": 0
}