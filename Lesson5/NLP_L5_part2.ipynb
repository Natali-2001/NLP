{
  "cells": [
    {
      "cell_type": "markdown",
      "metadata": {
        "id": "cINqgGpKXURp"
      },
      "source": [
        "# Задание 2. Проверить, насколько хорошо работает NER\n",
        "\n",
        "Данные брать из http://www.labinform.ru/pub/named_entities/\n",
        "\n",
        "1. проверить NER из nltk/spacy/deeppavlov.\n",
        "\n",
        "2. написать свой NER, попробовать разные подходы.\n",
        "\n",
        " - передаём в сетку токен и его соседей.\n",
        "\n",
        " - передаём в сетку только токен.\n",
        " - свой вариант.\n",
        "\n",
        "3. сравнить свои реализованные подходы на качество — вывести precision/recall/f1_score."
      ]
    },
    {
      "cell_type": "code",
      "execution_count": 1,
      "metadata": {
        "colab": {
          "base_uri": "https://localhost:8080/"
        },
        "id": "Qg6tcss2Zhp9",
        "outputId": "8591ed77-e8cb-4227-b859-aab28365110e"
      },
      "outputs": [
        {
          "output_type": "stream",
          "name": "stdout",
          "text": [
            "Looking in indexes: https://pypi.org/simple, https://us-python.pkg.dev/colab-wheels/public/simple/\n",
            "Requirement already satisfied: corus in /usr/local/lib/python3.7/dist-packages (0.9.0)\n"
          ]
        }
      ],
      "source": [
        "!pip install corus"
      ]
    },
    {
      "cell_type": "code",
      "source": [
        "!python -m spacy download en_core_web_md"
      ],
      "metadata": {
        "colab": {
          "base_uri": "https://localhost:8080/"
        },
        "id": "q2r7-OdGHffi",
        "outputId": "bc4a329b-6438-4b39-96e3-ff64739a4b62"
      },
      "execution_count": 2,
      "outputs": [
        {
          "output_type": "stream",
          "name": "stdout",
          "text": [
            "2022-11-08 16:51:56.084085: E tensorflow/stream_executor/cuda/cuda_driver.cc:271] failed call to cuInit: CUDA_ERROR_NO_DEVICE: no CUDA-capable device is detected\n",
            "Looking in indexes: https://pypi.org/simple, https://us-python.pkg.dev/colab-wheels/public/simple/\n",
            "Collecting en-core-web-md==3.4.1\n",
            "  Downloading https://github.com/explosion/spacy-models/releases/download/en_core_web_md-3.4.1/en_core_web_md-3.4.1-py3-none-any.whl (42.8 MB)\n",
            "\u001b[K     |████████████████████████████████| 42.8 MB 3.7 MB/s \n",
            "\u001b[?25hRequirement already satisfied: spacy<3.5.0,>=3.4.0 in /usr/local/lib/python3.7/dist-packages (from en-core-web-md==3.4.1) (3.4.2)\n",
            "Requirement already satisfied: catalogue<2.1.0,>=2.0.6 in /usr/local/lib/python3.7/dist-packages (from spacy<3.5.0,>=3.4.0->en-core-web-md==3.4.1) (2.0.8)\n",
            "Requirement already satisfied: setuptools in /usr/local/lib/python3.7/dist-packages (from spacy<3.5.0,>=3.4.0->en-core-web-md==3.4.1) (57.4.0)\n",
            "Requirement already satisfied: langcodes<4.0.0,>=3.2.0 in /usr/local/lib/python3.7/dist-packages (from spacy<3.5.0,>=3.4.0->en-core-web-md==3.4.1) (3.3.0)\n",
            "Requirement already satisfied: spacy-legacy<3.1.0,>=3.0.10 in /usr/local/lib/python3.7/dist-packages (from spacy<3.5.0,>=3.4.0->en-core-web-md==3.4.1) (3.0.10)\n",
            "Requirement already satisfied: jinja2 in /usr/local/lib/python3.7/dist-packages (from spacy<3.5.0,>=3.4.0->en-core-web-md==3.4.1) (2.11.3)\n",
            "Requirement already satisfied: packaging>=20.0 in /usr/local/lib/python3.7/dist-packages (from spacy<3.5.0,>=3.4.0->en-core-web-md==3.4.1) (21.3)\n",
            "Requirement already satisfied: srsly<3.0.0,>=2.4.3 in /usr/local/lib/python3.7/dist-packages (from spacy<3.5.0,>=3.4.0->en-core-web-md==3.4.1) (2.4.5)\n",
            "Requirement already satisfied: requests<3.0.0,>=2.13.0 in /usr/local/lib/python3.7/dist-packages (from spacy<3.5.0,>=3.4.0->en-core-web-md==3.4.1) (2.23.0)\n",
            "Requirement already satisfied: cymem<2.1.0,>=2.0.2 in /usr/local/lib/python3.7/dist-packages (from spacy<3.5.0,>=3.4.0->en-core-web-md==3.4.1) (2.0.7)\n",
            "Requirement already satisfied: typing-extensions<4.2.0,>=3.7.4 in /usr/local/lib/python3.7/dist-packages (from spacy<3.5.0,>=3.4.0->en-core-web-md==3.4.1) (4.1.1)\n",
            "Requirement already satisfied: tqdm<5.0.0,>=4.38.0 in /usr/local/lib/python3.7/dist-packages (from spacy<3.5.0,>=3.4.0->en-core-web-md==3.4.1) (4.64.1)\n",
            "Requirement already satisfied: numpy>=1.15.0 in /usr/local/lib/python3.7/dist-packages (from spacy<3.5.0,>=3.4.0->en-core-web-md==3.4.1) (1.21.6)\n",
            "Requirement already satisfied: murmurhash<1.1.0,>=0.28.0 in /usr/local/lib/python3.7/dist-packages (from spacy<3.5.0,>=3.4.0->en-core-web-md==3.4.1) (1.0.9)\n",
            "Requirement already satisfied: pydantic!=1.8,!=1.8.1,<1.11.0,>=1.7.4 in /usr/local/lib/python3.7/dist-packages (from spacy<3.5.0,>=3.4.0->en-core-web-md==3.4.1) (1.10.2)\n",
            "Requirement already satisfied: spacy-loggers<2.0.0,>=1.0.0 in /usr/local/lib/python3.7/dist-packages (from spacy<3.5.0,>=3.4.0->en-core-web-md==3.4.1) (1.0.3)\n",
            "Requirement already satisfied: typer<0.5.0,>=0.3.0 in /usr/local/lib/python3.7/dist-packages (from spacy<3.5.0,>=3.4.0->en-core-web-md==3.4.1) (0.4.2)\n",
            "Requirement already satisfied: preshed<3.1.0,>=3.0.2 in /usr/local/lib/python3.7/dist-packages (from spacy<3.5.0,>=3.4.0->en-core-web-md==3.4.1) (3.0.8)\n",
            "Requirement already satisfied: wasabi<1.1.0,>=0.9.1 in /usr/local/lib/python3.7/dist-packages (from spacy<3.5.0,>=3.4.0->en-core-web-md==3.4.1) (0.10.1)\n",
            "Requirement already satisfied: thinc<8.2.0,>=8.1.0 in /usr/local/lib/python3.7/dist-packages (from spacy<3.5.0,>=3.4.0->en-core-web-md==3.4.1) (8.1.5)\n",
            "Requirement already satisfied: pathy>=0.3.5 in /usr/local/lib/python3.7/dist-packages (from spacy<3.5.0,>=3.4.0->en-core-web-md==3.4.1) (0.6.2)\n",
            "Requirement already satisfied: zipp>=0.5 in /usr/local/lib/python3.7/dist-packages (from catalogue<2.1.0,>=2.0.6->spacy<3.5.0,>=3.4.0->en-core-web-md==3.4.1) (3.10.0)\n",
            "Requirement already satisfied: pyparsing!=3.0.5,>=2.0.2 in /usr/local/lib/python3.7/dist-packages (from packaging>=20.0->spacy<3.5.0,>=3.4.0->en-core-web-md==3.4.1) (3.0.9)\n",
            "Requirement already satisfied: smart-open<6.0.0,>=5.2.1 in /usr/local/lib/python3.7/dist-packages (from pathy>=0.3.5->spacy<3.5.0,>=3.4.0->en-core-web-md==3.4.1) (5.2.1)\n",
            "Requirement already satisfied: urllib3!=1.25.0,!=1.25.1,<1.26,>=1.21.1 in /usr/local/lib/python3.7/dist-packages (from requests<3.0.0,>=2.13.0->spacy<3.5.0,>=3.4.0->en-core-web-md==3.4.1) (1.24.3)\n",
            "Requirement already satisfied: idna<3,>=2.5 in /usr/local/lib/python3.7/dist-packages (from requests<3.0.0,>=2.13.0->spacy<3.5.0,>=3.4.0->en-core-web-md==3.4.1) (2.10)\n",
            "Requirement already satisfied: chardet<4,>=3.0.2 in /usr/local/lib/python3.7/dist-packages (from requests<3.0.0,>=2.13.0->spacy<3.5.0,>=3.4.0->en-core-web-md==3.4.1) (3.0.4)\n",
            "Requirement already satisfied: certifi>=2017.4.17 in /usr/local/lib/python3.7/dist-packages (from requests<3.0.0,>=2.13.0->spacy<3.5.0,>=3.4.0->en-core-web-md==3.4.1) (2022.9.24)\n",
            "Requirement already satisfied: blis<0.8.0,>=0.7.8 in /usr/local/lib/python3.7/dist-packages (from thinc<8.2.0,>=8.1.0->spacy<3.5.0,>=3.4.0->en-core-web-md==3.4.1) (0.7.9)\n",
            "Requirement already satisfied: confection<1.0.0,>=0.0.1 in /usr/local/lib/python3.7/dist-packages (from thinc<8.2.0,>=8.1.0->spacy<3.5.0,>=3.4.0->en-core-web-md==3.4.1) (0.0.3)\n",
            "Requirement already satisfied: click<9.0.0,>=7.1.1 in /usr/local/lib/python3.7/dist-packages (from typer<0.5.0,>=0.3.0->spacy<3.5.0,>=3.4.0->en-core-web-md==3.4.1) (7.1.2)\n",
            "Requirement already satisfied: MarkupSafe>=0.23 in /usr/local/lib/python3.7/dist-packages (from jinja2->spacy<3.5.0,>=3.4.0->en-core-web-md==3.4.1) (2.0.1)\n",
            "\u001b[38;5;2m✔ Download and installation successful\u001b[0m\n",
            "You can now load the package via spacy.load('en_core_web_md')\n"
          ]
        }
      ]
    },
    {
      "cell_type": "code",
      "source": [
        "import corus\n",
        "from corus import load_ne5\n",
        "\n",
        "import re\n",
        "import nltk\n",
        "\n",
        "nltk.download('ieer')\n",
        "\n",
        "import spacy\n",
        "from spacy import displacy\n",
        "import en_core_web_md"
      ],
      "metadata": {
        "colab": {
          "base_uri": "https://localhost:8080/"
        },
        "id": "nDZK8C7AHg19",
        "outputId": "0a915b41-5f7d-4d15-fccb-90b30f5e904b"
      },
      "execution_count": 3,
      "outputs": [
        {
          "output_type": "stream",
          "name": "stderr",
          "text": [
            "[nltk_data] Downloading package ieer to /root/nltk_data...\n",
            "[nltk_data]   Package ieer is already up-to-date!\n"
          ]
        }
      ]
    },
    {
      "cell_type": "code",
      "execution_count": 4,
      "metadata": {
        "colab": {
          "base_uri": "https://localhost:8080/"
        },
        "id": "mZLR4u1XE1Ow",
        "outputId": "9455ad30-d185-4c00-c8ae-b2d861eb6484"
      },
      "outputs": [
        {
          "output_type": "stream",
          "name": "stdout",
          "text": [
            "--2022-11-08 16:52:19--  http://www.labinform.ru/pub/named_entities/collection5.zip\n",
            "Resolving www.labinform.ru (www.labinform.ru)... 95.181.230.181\n",
            "Connecting to www.labinform.ru (www.labinform.ru)|95.181.230.181|:80... connected.\n",
            "HTTP request sent, awaiting response... 200 OK\n",
            "Length: 1899530 (1.8M) [application/zip]\n",
            "Saving to: ‘collection5.zip’\n",
            "\n",
            "collection5.zip     100%[===================>]   1.81M  2.22MB/s    in 0.8s    \n",
            "\n",
            "2022-11-08 16:52:21 (2.22 MB/s) - ‘collection5.zip’ saved [1899530/1899530]\n",
            "\n"
          ]
        }
      ],
      "source": [
        "!wget http://www.labinform.ru/pub/named_entities/collection5.zip"
      ]
    },
    {
      "cell_type": "code",
      "execution_count": 5,
      "metadata": {
        "colab": {
          "base_uri": "https://localhost:8080/"
        },
        "id": "2ml67KO_E1Ow",
        "outputId": "e2185ba8-80cc-481a-f12f-77d4b5444b3b"
      },
      "outputs": [
        {
          "output_type": "stream",
          "name": "stdout",
          "text": [
            "Archive:  collection5.zip\n",
            "replace Collection5/001.ann? [y]es, [n]o, [A]ll, [N]one, [r]ename: N\n"
          ]
        }
      ],
      "source": [
        "!unzip collection5.zip"
      ]
    },
    {
      "cell_type": "code",
      "execution_count": 6,
      "metadata": {
        "id": "JPxCa2LyH8gW"
      },
      "outputs": [],
      "source": [
        "!rm collection5.zip"
      ]
    },
    {
      "cell_type": "code",
      "execution_count": 7,
      "metadata": {
        "colab": {
          "base_uri": "https://localhost:8080/"
        },
        "id": "7burz-bD3t4l",
        "outputId": "032bedc4-59a8-4a95-e535-307b888c7a45"
      },
      "outputs": [
        {
          "output_type": "stream",
          "name": "stdout",
          "text": [
            "Collection5  sample_data\n"
          ]
        }
      ],
      "source": [
        "!ls"
      ]
    },
    {
      "cell_type": "code",
      "execution_count": 8,
      "metadata": {
        "colab": {
          "base_uri": "https://localhost:8080/"
        },
        "id": "UEdS2pAS3fod",
        "outputId": "f66e0aef-f53b-426d-8a02-43a7a7bca184"
      },
      "outputs": [
        {
          "output_type": "execute_result",
          "data": {
            "text/plain": [
              "Ne5Markup(\n",
              "    id='492',\n",
              "    text='Д.Медведев уволил ряд высокопоставленных военных\\r\\n\\r\\nПрезидент РФ Дмитрий Медведев в пятницу, 23 декабря, освободил от должности ряд высокопоставленных военных.\\r\\n\\r\\nУказом главы государства от должности заместителя командующего Черноморским флотом был освобожден вице-адмирал Сергей Меняйло. Также Д.Медведев уволил с военной службы генерал-майора Багира Фатуллаева.\\r\\n\\r\\nКроме того, глава государства освободил от занимаемой должности полковника медицинской службы Алексея Никитина, начальника 2-го управления - заместителя начальника главного военно-медицинского управления Министерства обороны РФ; полковника Николая Ярцева, начальника филиала военного учебно-научного центра Военно-воздушных сил \"Военно-воздушная академия им.Н.Жуковского и Ю.Гагарина\" (Сызрань, Самарская область).\\r\\n\\r\\nПрезидент РФ назначил полковника Дмитрия Горбатенко начальником управления подготовки войск Западного военного округа.\\r\\n\\r\\nНапомним, что летом этого года Д.Медведев провел масштабные перестановки в руководстве Военно-Морского флота РФ. Тогда на место командующего Черноморским флотом был назначен контр-адмирал Александр Федотенков, занимавший до этого должность командира Ленинградской военно-морской базы Балтийского флота. Командующий Черноморским флотом вице-адмирал Владимир Королев был переведен на пост командующего Северным флотом.\\r\\n\\r\\n',\n",
              "    spans=[Ne5Span(\n",
              "         index='T1',\n",
              "         type='PER',\n",
              "         start=0,\n",
              "         stop=10,\n",
              "         text='Д.Медведев'\n",
              "     ), Ne5Span(\n",
              "         index='T2',\n",
              "         type='GEOPOLIT',\n",
              "         start=62,\n",
              "         stop=64,\n",
              "         text='РФ'\n",
              "     ), Ne5Span(\n",
              "         index='T3',\n",
              "         type='PER',\n",
              "         start=65,\n",
              "         stop=81,\n",
              "         text='Дмитрий Медведев'\n",
              "     ), Ne5Span(\n",
              "         index='T4',\n",
              "         type='ORG',\n",
              "         start=226,\n",
              "         stop=245,\n",
              "         text='Черноморским флотом'\n",
              "     ), Ne5Span(\n",
              "         index='T5',\n",
              "         type='PER',\n",
              "         start=274,\n",
              "         stop=288,\n",
              "         text='Сергей Меняйло'\n",
              "     ), Ne5Span(\n",
              "         index='T6',\n",
              "         type='PER',\n",
              "         start=296,\n",
              "         stop=306,\n",
              "         text='Д.Медведев'\n",
              "     ), Ne5Span(\n",
              "         index='T7',\n",
              "         type='PER',\n",
              "         start=346,\n",
              "         stop=363,\n",
              "         text='Багира Фатуллаева'\n",
              "     ), Ne5Span(\n",
              "         index='T8',\n",
              "         type='PER',\n",
              "         start=462,\n",
              "         stop=478,\n",
              "         text='Алексея Никитина'\n",
              "     ), Ne5Span(\n",
              "         index='T9',\n",
              "         type='ORG',\n",
              "         start=572,\n",
              "         stop=592,\n",
              "         text='Министерства обороны'\n",
              "     ), Ne5Span(\n",
              "         index='T10',\n",
              "         type='GEOPOLIT',\n",
              "         start=593,\n",
              "         stop=595,\n",
              "         text='РФ'\n",
              "     ), Ne5Span(\n",
              "         index='T11',\n",
              "         type='PER',\n",
              "         start=608,\n",
              "         stop=622,\n",
              "         text='Николая Ярцева'\n",
              "     ), Ne5Span(\n",
              "         index='T12',\n",
              "         type='ORG',\n",
              "         start=675,\n",
              "         stop=695,\n",
              "         text='Военно-воздушных сил'\n",
              "     ), Ne5Span(\n",
              "         index='T13',\n",
              "         type='ORG',\n",
              "         start=697,\n",
              "         stop=751,\n",
              "         text='Военно-воздушная академия им.Н.Жуковского и Ю.Гагарина'\n",
              "     ), Ne5Span(\n",
              "         index='T14',\n",
              "         type='LOC',\n",
              "         start=754,\n",
              "         stop=761,\n",
              "         text='Сызрань'\n",
              "     ), Ne5Span(\n",
              "         index='T15',\n",
              "         type='LOC',\n",
              "         start=763,\n",
              "         stop=780,\n",
              "         text='Самарская область'\n",
              "     ), Ne5Span(\n",
              "         index='T16',\n",
              "         type='GEOPOLIT',\n",
              "         start=796,\n",
              "         stop=798,\n",
              "         text='РФ'\n",
              "     ), Ne5Span(\n",
              "         index='T17',\n",
              "         type='PER',\n",
              "         start=819,\n",
              "         stop=837,\n",
              "         text='Дмитрия Горбатенко'\n",
              "     ), Ne5Span(\n",
              "         index='T18',\n",
              "         type='LOC',\n",
              "         start=878,\n",
              "         stop=903,\n",
              "         text='Западного военного округа'\n",
              "     ), Ne5Span(\n",
              "         index='T19',\n",
              "         type='PER',\n",
              "         start=939,\n",
              "         stop=949,\n",
              "         text='Д.Медведев'\n",
              "     ), Ne5Span(\n",
              "         index='T20',\n",
              "         type='ORG',\n",
              "         start=995,\n",
              "         stop=1016,\n",
              "         text='Военно-Морского флота'\n",
              "     ), Ne5Span(\n",
              "         index='T21',\n",
              "         type='GEOPOLIT',\n",
              "         start=1017,\n",
              "         stop=1019,\n",
              "         text='РФ'\n",
              "     ), Ne5Span(\n",
              "         index='T22',\n",
              "         type='ORG',\n",
              "         start=1049,\n",
              "         stop=1068,\n",
              "         text='Черноморским флотом'\n",
              "     ), Ne5Span(\n",
              "         index='T23',\n",
              "         type='PER',\n",
              "         start=1096,\n",
              "         stop=1116,\n",
              "         text='Александр Федотенков'\n",
              "     ), Ne5Span(\n",
              "         index='T24',\n",
              "         type='ORG',\n",
              "         start=1158,\n",
              "         stop=1191,\n",
              "         text='Ленинградской военно-морской базы'\n",
              "     ), Ne5Span(\n",
              "         index='T25',\n",
              "         type='ORG',\n",
              "         start=1192,\n",
              "         stop=1209,\n",
              "         text='Балтийского флота'\n",
              "     ), Ne5Span(\n",
              "         index='T26',\n",
              "         type='ORG',\n",
              "         start=1223,\n",
              "         stop=1242,\n",
              "         text='Черноморским флотом'\n",
              "     ), Ne5Span(\n",
              "         index='T27',\n",
              "         type='PER',\n",
              "         start=1256,\n",
              "         stop=1272,\n",
              "         text='Владимир Королев'\n",
              "     ), Ne5Span(\n",
              "         index='T28',\n",
              "         type='ORG',\n",
              "         start=1308,\n",
              "         stop=1323,\n",
              "         text='Северным флотом'\n",
              "     )]\n",
              ")"
            ]
          },
          "metadata": {},
          "execution_count": 8
        }
      ],
      "source": [
        "from corus import load_ne5\n",
        "\n",
        "dir = 'Collection5/'\n",
        "records = load_ne5(dir)\n",
        "next(records)"
      ]
    },
    {
      "cell_type": "code",
      "source": [
        "import nltk"
      ],
      "metadata": {
        "id": "CvfTTeiqFdw9"
      },
      "execution_count": 9,
      "outputs": []
    },
    {
      "cell_type": "code",
      "execution_count": 10,
      "metadata": {
        "colab": {
          "base_uri": "https://localhost:8080/"
        },
        "id": "uRuODJpkIqlv",
        "outputId": "e2a011a2-1d28-421d-8796-2c19bd078625"
      },
      "outputs": [
        {
          "output_type": "stream",
          "name": "stderr",
          "text": [
            "[nltk_data] Downloading package punkt to /root/nltk_data...\n",
            "[nltk_data]   Package punkt is already up-to-date!\n",
            "[nltk_data] Downloading package averaged_perceptron_tagger to\n",
            "[nltk_data]     /root/nltk_data...\n",
            "[nltk_data]   Package averaged_perceptron_tagger is already up-to-\n",
            "[nltk_data]       date!\n",
            "[nltk_data] Downloading package maxent_ne_chunker to\n",
            "[nltk_data]     /root/nltk_data...\n",
            "[nltk_data]   Package maxent_ne_chunker is already up-to-date!\n",
            "[nltk_data] Downloading package words to /root/nltk_data...\n",
            "[nltk_data]   Package words is already up-to-date!\n"
          ]
        },
        {
          "output_type": "execute_result",
          "data": {
            "text/plain": [
              "[('День', 'JJ'),\n",
              " ('памяти', 'NNP'),\n",
              " ('и', 'NNP'),\n",
              " ('скорби', 'NNP'),\n",
              " ('начался', 'NNP'),\n",
              " ('в', 'NNP'),\n",
              " ('Брянске', 'NNP'),\n",
              " ('с', 'NNP'),\n",
              " ('традиционного', 'NNP'),\n",
              " ('ночного', 'NNP'),\n",
              " ('митинга-реквиема', 'JJ'),\n",
              " ('Традиционная', 'NNP'),\n",
              " ('молодежная', 'NNP'),\n",
              " ('патриотическая', 'NNP'),\n",
              " ('акция', 'NNP'),\n",
              " ('``', '``'),\n",
              " ('Зажги', 'FW'),\n",
              " ('свечу', 'NN'),\n",
              " (\"''\", \"''\"),\n",
              " ('состоялась', 'CC'),\n",
              " ('в', 'NNP'),\n",
              " ('Брянске', 'NNP'),\n",
              " ('на', 'NNP'),\n",
              " ('Партизанской', 'NNP'),\n",
              " ('Поляне', 'NNP'),\n",
              " ('в', 'NNP'),\n",
              " ('ознаменование', 'NNP'),\n",
              " ('72-й', 'JJ'),\n",
              " ('годовщины', 'NNP'),\n",
              " ('начала', 'NNP'),\n",
              " ('Великой', 'NNP'),\n",
              " ('Отечественной', 'NNP'),\n",
              " ('войны', 'NNP'),\n",
              " ('в', 'NNP'),\n",
              " ('ночь', 'NNP'),\n",
              " ('на', 'VBD'),\n",
              " ('22', 'CD'),\n",
              " ('июня', 'NN'),\n",
              " ('.', '.'),\n",
              " ('Ночной', 'CC'),\n",
              " ('митинг', 'JJ'),\n",
              " ('на', 'NNP'),\n",
              " ('Партизанской', 'NNP'),\n",
              " ('поляне', 'NNP'),\n",
              " ('в', 'NNP'),\n",
              " ('День', 'NNP'),\n",
              " ('памяти', 'NNP'),\n",
              " ('и', 'NNP'),\n",
              " ('скорби', 'NNP'),\n",
              " ('проводится', 'NNP'),\n",
              " ('в', 'NNP'),\n",
              " ('городе', 'NNP'),\n",
              " ('с', 'NNP'),\n",
              " ('2008', 'CD'),\n",
              " ('года', 'NNP'),\n",
              " ('.', '.'),\n",
              " ('Он', 'VB'),\n",
              " ('начинается', 'JJ'),\n",
              " ('в', 'NNP'),\n",
              " ('03:30', 'CD'),\n",
              " (',', ','),\n",
              " ('его', 'NNP'),\n",
              " ('кульминация', 'NNP'),\n",
              " ('-', ':'),\n",
              " ('в', 'NN'),\n",
              " ('четыре', 'JJ'),\n",
              " ('часа', 'NNP'),\n",
              " ('утра', 'NNP'),\n",
              " (',', ','),\n",
              " ('момент', 'NNP'),\n",
              " ('начала', 'NNP'),\n",
              " ('войны', 'NNP'),\n",
              " (',', ','),\n",
              " ('сообщает', 'NNP'),\n",
              " ('корреспондент', 'NNP'),\n",
              " ('ИА', 'NNP'),\n",
              " ('REGNUM', 'NNP'),\n",
              " ('.', '.'),\n",
              " ('Акция', 'VB'),\n",
              " ('Памяти', 'JJ'),\n",
              " ('``', '``'),\n",
              " ('Зажги', 'FW'),\n",
              " ('свечу', 'NN'),\n",
              " (\"''\", \"''\"),\n",
              " ('-', ':'),\n",
              " ('ночной', 'NN'),\n",
              " ('митинг', 'JJ'),\n",
              " ('в', 'NNP'),\n",
              " ('момент', 'NNP'),\n",
              " ('начала', 'NNP'),\n",
              " ('Великой', 'NNP'),\n",
              " ('Отечественной', 'NNP'),\n",
              " ('войны', 'NNP'),\n",
              " ('-', ':'),\n",
              " ('прошла', 'NN'),\n",
              " ('на', 'JJ'),\n",
              " ('мемориальном', 'NNP'),\n",
              " ('комплексе', 'NNP'),\n",
              " ('``', '``'),\n",
              " ('Партизанская', 'FW'),\n",
              " ('Поляна', 'NN'),\n",
              " (\"''\", \"''\"),\n",
              " ('уже', 'CC'),\n",
              " ('в', 'NNP'),\n",
              " ('шестой', 'NNP'),\n",
              " ('раз', 'NNP'),\n",
              " ('.', '.'),\n",
              " ('Для', 'VB'),\n",
              " ('участников', 'JJ'),\n",
              " ('акции', 'NNP'),\n",
              " (',', ','),\n",
              " ('которые', 'NNP'),\n",
              " ('съезжались', 'NNP'),\n",
              " ('туда', 'NNP'),\n",
              " ('ещё', 'NNP'),\n",
              " ('вечером', 'VBD'),\n",
              " ('21', 'CD'),\n",
              " ('июня', 'NNP'),\n",
              " ('(', '('),\n",
              " ('мемориал', 'NNP'),\n",
              " ('расположен', 'NNP'),\n",
              " ('в', 'VBD'),\n",
              " ('15', 'CD'),\n",
              " ('км', 'NNP'),\n",
              " ('от', 'NNP'),\n",
              " ('Брянска', 'NNP'),\n",
              " (')', ')'),\n",
              " ('вновь', 'VBP'),\n",
              " ('была', 'JJ'),\n",
              " ('организована', 'NNP'),\n",
              " ('культурная', 'NNP'),\n",
              " ('программа', 'NN'),\n",
              " (':', ':'),\n",
              " ('начиная', 'JJ'),\n",
              " ('с', 'NNP'),\n",
              " ('полуночи', 'NNP'),\n",
              " (',', ','),\n",
              " ('открылся', 'NNP'),\n",
              " ('музей', 'NNP'),\n",
              " ('партизанского', 'NNP'),\n",
              " ('движения', 'NNP'),\n",
              " (',', ','),\n",
              " ('на', 'NNP'),\n",
              " ('оборудованном', 'NNP'),\n",
              " ('``', '``'),\n",
              " ('привале', 'NN'),\n",
              " (\"''\", \"''\"),\n",
              " ('был', 'CC'),\n",
              " ('организован', 'NNP'),\n",
              " ('просмотр', 'NNP'),\n",
              " ('патриотических', 'NNP'),\n",
              " ('фильмов', 'NNP'),\n",
              " ('.', '.'),\n",
              " ('Митинг', 'VB'),\n",
              " ('начался', 'JJ'),\n",
              " ('в', 'JJ'),\n",
              " ('03:30', 'CD'),\n",
              " ('.', '.'),\n",
              " ('У', 'VB'),\n",
              " ('Стены', 'JJ'),\n",
              " ('Скорби', 'NNP'),\n",
              " (',', ','),\n",
              " ('на', 'NNP'),\n",
              " ('которой', 'NNP'),\n",
              " ('выбиты', 'NNP'),\n",
              " ('имена', 'NNP'),\n",
              " ('всех', 'NNP'),\n",
              " ('брянских', 'NNP'),\n",
              " ('партизан', 'NNP'),\n",
              " (',', ','),\n",
              " ('погибших', 'NNP'),\n",
              " ('в', 'NNP'),\n",
              " ('годы', 'NNP'),\n",
              " ('войны', 'NNP'),\n",
              " (',', ','),\n",
              " ('огнями', 'NNP'),\n",
              " ('свечей', 'NNP'),\n",
              " ('выложена', 'NNP'),\n",
              " ('фраза', 'NNP'),\n",
              " ('``', '``'),\n",
              " ('Мы', 'FW'),\n",
              " ('помним', 'NN'),\n",
              " (\"''\", \"''\"),\n",
              " ('.', '.'),\n",
              " ('На', 'VB'),\n",
              " ('митинге', 'JJ'),\n",
              " ('-', ':'),\n",
              " ('ветераны', 'NN'),\n",
              " ('Великой', 'JJ'),\n",
              " ('Отечественной', 'NNP'),\n",
              " ('войны', 'NNP'),\n",
              " (',', ','),\n",
              " ('труженики', 'NNP'),\n",
              " ('тыла', 'NNP'),\n",
              " (',', ','),\n",
              " ('студенты', 'NNP'),\n",
              " ('брянских', 'NNP'),\n",
              " ('учебных', 'NNP'),\n",
              " ('заведений', 'NNP'),\n",
              " (',', ','),\n",
              " ('а', 'NNP'),\n",
              " ('также', 'NNP'),\n",
              " ('дети', 'NNP'),\n",
              " (',', ','),\n",
              " ('отдыхающие', 'NNP'),\n",
              " ('в', 'NNP'),\n",
              " ('загородных', 'NNP'),\n",
              " ('оздоровительных', 'NNP'),\n",
              " ('лагерях', 'NNP'),\n",
              " ('(', '('),\n",
              " ('Белобережская', 'NNP'),\n",
              " ('пустошь', 'NNP'),\n",
              " (',', ','),\n",
              " ('на', 'NNP'),\n",
              " ('которой', 'NNP'),\n",
              " ('расположена', 'NNP'),\n",
              " ('Партизанская', 'NNP'),\n",
              " ('поляна', 'NNP'),\n",
              " ('-', ':'),\n",
              " ('самая', 'NN'),\n",
              " ('большая', 'JJ'),\n",
              " ('зона', 'NNP'),\n",
              " ('отдыха', 'NNP'),\n",
              " ('под', 'NNP'),\n",
              " ('Брянском', 'NNP'),\n",
              " (')', ')'),\n",
              " ('.', '.'),\n",
              " ('С', 'JJ'),\n",
              " ('речью', 'JJ'),\n",
              " ('на', 'NN'),\n",
              " ('митинге', 'NNP'),\n",
              " ('выступили', 'NNP'),\n",
              " ('замгубернатора', 'NNP'),\n",
              " ('Брянской', 'NNP'),\n",
              " ('области', 'NNP'),\n",
              " ('Александр', 'NNP'),\n",
              " ('Жигунов', 'NNP'),\n",
              " (',', ','),\n",
              " ('ветераны', 'NNP'),\n",
              " ('Великой', 'NNP'),\n",
              " ('Отечественной', 'NNP'),\n",
              " ('войны', 'NNP'),\n",
              " ('Василий', 'NNP'),\n",
              " ('Бударин', 'NNP'),\n",
              " (',', ','),\n",
              " ('Яков', 'NNP'),\n",
              " ('Рожнов', 'NNP'),\n",
              " (',', ','),\n",
              " ('руководитель', 'NNP'),\n",
              " ('брянских', 'NNP'),\n",
              " ('единороссов', 'NNP'),\n",
              " ('Юрий', 'NNP'),\n",
              " ('Гапеенко', 'NNP'),\n",
              " ('.', '.'),\n",
              " ('Ровно', 'VB'),\n",
              " ('в', 'JJ'),\n",
              " ('4', 'CD'),\n",
              " ('часа', 'JJ'),\n",
              " ('утра', 'NNP'),\n",
              " ('в', 'NNP'),\n",
              " ('знак', 'NNP'),\n",
              " ('памяти', 'NNP'),\n",
              " ('обо', 'NNP'),\n",
              " ('всех', 'NNP'),\n",
              " ('погибших', 'NNP'),\n",
              " ('в', 'NNP'),\n",
              " ('годы', 'NNP'),\n",
              " ('Великой', 'NNP'),\n",
              " ('Отечественной', 'NNP'),\n",
              " ('войны', 'NNP'),\n",
              " ('участники', 'NNP'),\n",
              " ('митинга', 'NNP'),\n",
              " ('зажгли', 'NNP'),\n",
              " ('восковые', 'NNP'),\n",
              " ('свечи', 'NNP'),\n",
              " (',', ','),\n",
              " ('которые', 'NNP'),\n",
              " ('держали', 'NNP'),\n",
              " ('в', 'NNP'),\n",
              " ('руках', 'NNP'),\n",
              " (',', ','),\n",
              " ('а', 'NNP'),\n",
              " ('в', 'NNP'),\n",
              " ('небо', 'NNP'),\n",
              " ('взмыли', 'NNP'),\n",
              " ('бумажные', 'NNP'),\n",
              " ('фонарики', 'NNP'),\n",
              " ('.', '.'),\n",
              " ('Участники', 'VB'),\n",
              " ('мероприятия', 'JJ'),\n",
              " ('возложили', 'NNP'),\n",
              " ('цветы', 'NNP'),\n",
              " ('к', 'NNP'),\n",
              " ('Вечному', 'NNP'),\n",
              " ('огню', 'NNP'),\n",
              " (',', ','),\n",
              " ('а', 'NNP'),\n",
              " ('потом', 'NNP'),\n",
              " ('пустили', 'NNP'),\n",
              " ('по', 'NNP'),\n",
              " ('реке', 'NNP'),\n",
              " ('Снежеть', 'NNP'),\n",
              " ('венки', 'NNP'),\n",
              " ('с', 'NNP'),\n",
              " ('зажженными', 'NNP'),\n",
              " ('свечами', 'NNP'),\n",
              " ('.', '.')]"
            ]
          },
          "metadata": {},
          "execution_count": 10
        }
      ],
      "source": [
        "document = next(records).text\n",
        "nltk.download('punkt')\n",
        "nltk.download('averaged_perceptron_tagger')\n",
        "nltk.download('maxent_ne_chunker')\n",
        "nltk.download('words')\n",
        "\n",
        "nltk.pos_tag(nltk.word_tokenize(document))"
      ]
    },
    {
      "cell_type": "code",
      "execution_count": 11,
      "metadata": {
        "colab": {
          "base_uri": "https://localhost:8080/"
        },
        "id": "cPbZdC-dcoLg",
        "outputId": "aca7f6e6-d0c7-43b4-db5e-215729f02706"
      },
      "outputs": [
        {
          "output_type": "execute_result",
          "data": {
            "text/plain": [
              "[('День', 'PERSON'),\n",
              " ('Брянске', 'PERSON'),\n",
              " ('Брянске', 'PERSON'),\n",
              " ('Поляне', 'PERSON'),\n",
              " ('Великой Отечественной', 'PERSON'),\n",
              " ('Памяти', 'PERSON'),\n",
              " ('Великой Отечественной', 'PERSON'),\n",
              " ('Стены Скорби', 'PERSON'),\n",
              " ('Великой Отечественной', 'PERSON'),\n",
              " ('Белобережская', 'ORGANIZATION'),\n",
              " ('Великой Отечественной', 'PERSON'),\n",
              " ('Василий Бударин', 'PERSON'),\n",
              " ('Яков Рожнов', 'PERSON'),\n",
              " ('Великой Отечественной', 'PERSON'),\n",
              " ('Вечному', 'PERSON'),\n",
              " ('Снежеть', 'PERSON')]"
            ]
          },
          "metadata": {},
          "execution_count": 11
        }
      ],
      "source": [
        "[(' '.join(c[0] for c in chunk), chunk.label()) \n",
        "            for chunk in nltk.ne_chunk(\n",
        "                nltk.pos_tag(nltk.word_tokenize(document))\n",
        "                ) if hasattr(chunk, 'label')\n",
        "]"
      ]
    },
    {
      "cell_type": "code",
      "execution_count": 12,
      "metadata": {
        "colab": {
          "base_uri": "https://localhost:8080/"
        },
        "id": "skYaNCiC5xM4",
        "outputId": "c1a58639-473a-417f-c357-051c00f92642"
      },
      "outputs": [
        {
          "output_type": "stream",
          "name": "stdout",
          "text": [
            "Looking in indexes: https://pypi.org/simple, https://us-python.pkg.dev/colab-wheels/public/simple/\n",
            "Collecting razdel\n",
            "  Downloading razdel-0.5.0-py3-none-any.whl (21 kB)\n",
            "Installing collected packages: razdel\n",
            "Successfully installed razdel-0.5.0\n"
          ]
        }
      ],
      "source": [
        "!pip install razdel"
      ]
    },
    {
      "cell_type": "code",
      "execution_count": 13,
      "metadata": {
        "id": "a8COqRKuh7kX"
      },
      "outputs": [],
      "source": [
        "from razdel import tokenize\n",
        "\n",
        "words_docs = []\n",
        "for ix, rec in enumerate(records):\n",
        "    words = []\n",
        "    for token in tokenize(rec.text):       \n",
        "        result = 'None'        \n",
        "        for item in rec.spans:            \n",
        "            if (token.start >= item.start) and (token.stop <= item.stop) and (item.type == 'PER'):\n",
        "                result = 'PER'\n",
        "                break\n",
        "            if (token.start >= item.start) and (token.stop <= item.stop) and (item.type == 'ORG'):\n",
        "                result = 'ORG'\n",
        "                break\n",
        "            if (token.start >= item.start) and (token.stop <= item.stop) and (item.type == 'MEDIA'):\n",
        "                result = 'MEDIA'\n",
        "                break\n",
        "            if (token.start >= item.start) and (token.stop <= item.stop) and (item.type == 'LOC'):\n",
        "                result = 'LOC'\n",
        "                break\n",
        "            if (token.start >= item.start) and (token.stop <= item.stop) and (item.type == 'GEOPOLIT'):\n",
        "                result = 'GEOPOLIT'\n",
        "                break\n",
        "        words.append([token.text, result])        \n",
        "    words_docs.extend(words)"
      ]
    },
    {
      "cell_type": "code",
      "execution_count": 14,
      "metadata": {
        "colab": {
          "base_uri": "https://localhost:8080/"
        },
        "id": "J794P5BNiJCQ",
        "outputId": "aaf51da5-dff6-4036-e430-d348060b4f25"
      },
      "outputs": [
        {
          "output_type": "execute_result",
          "data": {
            "text/plain": [
              "None        218808\n",
              "PER          21167\n",
              "ORG          13621\n",
              "LOC           4553\n",
              "GEOPOLIT      4352\n",
              "MEDIA         2480\n",
              "Name: tag, dtype: int64"
            ]
          },
          "metadata": {},
          "execution_count": 14
        }
      ],
      "source": [
        "import pandas as pd\n",
        "\n",
        "df_words = pd.DataFrame(words_docs, columns=['word', 'tag'])\n",
        "df_words['tag'].value_counts()"
      ]
    },
    {
      "cell_type": "code",
      "execution_count": 15,
      "metadata": {
        "colab": {
          "base_uri": "https://localhost:8080/",
          "height": 206
        },
        "id": "UO4XcF5RiQAX",
        "outputId": "96d9c8d8-bed7-4c86-86ff-c6d1cf0389e7"
      },
      "outputs": [
        {
          "output_type": "execute_result",
          "data": {
            "text/plain": [
              "           word   tag\n",
              "0             В   PER\n",
              "1             .   PER\n",
              "2         Путин   PER\n",
              "3  переназначил  None\n",
              "4        одного  None"
            ],
            "text/html": [
              "\n",
              "  <div id=\"df-91780931-0505-48bb-bba9-dee32f6a1bd4\">\n",
              "    <div class=\"colab-df-container\">\n",
              "      <div>\n",
              "<style scoped>\n",
              "    .dataframe tbody tr th:only-of-type {\n",
              "        vertical-align: middle;\n",
              "    }\n",
              "\n",
              "    .dataframe tbody tr th {\n",
              "        vertical-align: top;\n",
              "    }\n",
              "\n",
              "    .dataframe thead th {\n",
              "        text-align: right;\n",
              "    }\n",
              "</style>\n",
              "<table border=\"1\" class=\"dataframe\">\n",
              "  <thead>\n",
              "    <tr style=\"text-align: right;\">\n",
              "      <th></th>\n",
              "      <th>word</th>\n",
              "      <th>tag</th>\n",
              "    </tr>\n",
              "  </thead>\n",
              "  <tbody>\n",
              "    <tr>\n",
              "      <th>0</th>\n",
              "      <td>В</td>\n",
              "      <td>PER</td>\n",
              "    </tr>\n",
              "    <tr>\n",
              "      <th>1</th>\n",
              "      <td>.</td>\n",
              "      <td>PER</td>\n",
              "    </tr>\n",
              "    <tr>\n",
              "      <th>2</th>\n",
              "      <td>Путин</td>\n",
              "      <td>PER</td>\n",
              "    </tr>\n",
              "    <tr>\n",
              "      <th>3</th>\n",
              "      <td>переназначил</td>\n",
              "      <td>None</td>\n",
              "    </tr>\n",
              "    <tr>\n",
              "      <th>4</th>\n",
              "      <td>одного</td>\n",
              "      <td>None</td>\n",
              "    </tr>\n",
              "  </tbody>\n",
              "</table>\n",
              "</div>\n",
              "      <button class=\"colab-df-convert\" onclick=\"convertToInteractive('df-91780931-0505-48bb-bba9-dee32f6a1bd4')\"\n",
              "              title=\"Convert this dataframe to an interactive table.\"\n",
              "              style=\"display:none;\">\n",
              "        \n",
              "  <svg xmlns=\"http://www.w3.org/2000/svg\" height=\"24px\"viewBox=\"0 0 24 24\"\n",
              "       width=\"24px\">\n",
              "    <path d=\"M0 0h24v24H0V0z\" fill=\"none\"/>\n",
              "    <path d=\"M18.56 5.44l.94 2.06.94-2.06 2.06-.94-2.06-.94-.94-2.06-.94 2.06-2.06.94zm-11 1L8.5 8.5l.94-2.06 2.06-.94-2.06-.94L8.5 2.5l-.94 2.06-2.06.94zm10 10l.94 2.06.94-2.06 2.06-.94-2.06-.94-.94-2.06-.94 2.06-2.06.94z\"/><path d=\"M17.41 7.96l-1.37-1.37c-.4-.4-.92-.59-1.43-.59-.52 0-1.04.2-1.43.59L10.3 9.45l-7.72 7.72c-.78.78-.78 2.05 0 2.83L4 21.41c.39.39.9.59 1.41.59.51 0 1.02-.2 1.41-.59l7.78-7.78 2.81-2.81c.8-.78.8-2.07 0-2.86zM5.41 20L4 18.59l7.72-7.72 1.47 1.35L5.41 20z\"/>\n",
              "  </svg>\n",
              "      </button>\n",
              "      \n",
              "  <style>\n",
              "    .colab-df-container {\n",
              "      display:flex;\n",
              "      flex-wrap:wrap;\n",
              "      gap: 12px;\n",
              "    }\n",
              "\n",
              "    .colab-df-convert {\n",
              "      background-color: #E8F0FE;\n",
              "      border: none;\n",
              "      border-radius: 50%;\n",
              "      cursor: pointer;\n",
              "      display: none;\n",
              "      fill: #1967D2;\n",
              "      height: 32px;\n",
              "      padding: 0 0 0 0;\n",
              "      width: 32px;\n",
              "    }\n",
              "\n",
              "    .colab-df-convert:hover {\n",
              "      background-color: #E2EBFA;\n",
              "      box-shadow: 0px 1px 2px rgba(60, 64, 67, 0.3), 0px 1px 3px 1px rgba(60, 64, 67, 0.15);\n",
              "      fill: #174EA6;\n",
              "    }\n",
              "\n",
              "    [theme=dark] .colab-df-convert {\n",
              "      background-color: #3B4455;\n",
              "      fill: #D2E3FC;\n",
              "    }\n",
              "\n",
              "    [theme=dark] .colab-df-convert:hover {\n",
              "      background-color: #434B5C;\n",
              "      box-shadow: 0px 1px 3px 1px rgba(0, 0, 0, 0.15);\n",
              "      filter: drop-shadow(0px 1px 2px rgba(0, 0, 0, 0.3));\n",
              "      fill: #FFFFFF;\n",
              "    }\n",
              "  </style>\n",
              "\n",
              "      <script>\n",
              "        const buttonEl =\n",
              "          document.querySelector('#df-91780931-0505-48bb-bba9-dee32f6a1bd4 button.colab-df-convert');\n",
              "        buttonEl.style.display =\n",
              "          google.colab.kernel.accessAllowed ? 'block' : 'none';\n",
              "\n",
              "        async function convertToInteractive(key) {\n",
              "          const element = document.querySelector('#df-91780931-0505-48bb-bba9-dee32f6a1bd4');\n",
              "          const dataTable =\n",
              "            await google.colab.kernel.invokeFunction('convertToInteractive',\n",
              "                                                     [key], {});\n",
              "          if (!dataTable) return;\n",
              "\n",
              "          const docLinkHtml = 'Like what you see? Visit the ' +\n",
              "            '<a target=\"_blank\" href=https://colab.research.google.com/notebooks/data_table.ipynb>data table notebook</a>'\n",
              "            + ' to learn more about interactive tables.';\n",
              "          element.innerHTML = '';\n",
              "          dataTable['output_type'] = 'display_data';\n",
              "          await google.colab.output.renderOutput(dataTable, element);\n",
              "          const docLink = document.createElement('div');\n",
              "          docLink.innerHTML = docLinkHtml;\n",
              "          element.appendChild(docLink);\n",
              "        }\n",
              "      </script>\n",
              "    </div>\n",
              "  </div>\n",
              "  "
            ]
          },
          "metadata": {},
          "execution_count": 15
        }
      ],
      "source": [
        "df_words.head()"
      ]
    },
    {
      "cell_type": "code",
      "execution_count": 16,
      "metadata": {
        "id": "eHi1JAE9iSE4"
      },
      "outputs": [],
      "source": [
        "import tensorflow as tf\n",
        "\n",
        "from tensorflow.keras import Sequential\n",
        "from tensorflow.keras.layers import Dense, Embedding, GlobalAveragePooling1D, GlobalMaxPooling1D, Conv1D, Conv2D, GRU, LSTM, Dropout, Input\n",
        "from tensorflow.keras.layers.experimental.preprocessing import TextVectorization\n",
        "from sklearn import model_selection, preprocessing, linear_model"
      ]
    },
    {
      "cell_type": "code",
      "execution_count": 17,
      "metadata": {
        "id": "IR57FzTqiUIH"
      },
      "outputs": [],
      "source": [
        "train_x, valid_x, train_y, valid_y = model_selection.train_test_split(df_words['word'], df_words['tag'])\n",
        "\n",
        "encoder = preprocessing.LabelEncoder()\n",
        "train_y = encoder.fit_transform(train_y)\n",
        "valid_y = encoder.fit_transform(valid_y)"
      ]
    },
    {
      "cell_type": "code",
      "execution_count": 18,
      "metadata": {
        "colab": {
          "base_uri": "https://localhost:8080/"
        },
        "id": "F1X_OZhciZsY",
        "outputId": "6373b1a2-4e79-4604-9e01-d7d73007ed1e"
      },
      "outputs": [
        {
          "output_type": "execute_result",
          "data": {
            "text/plain": [
              "55"
            ]
          },
          "metadata": {},
          "execution_count": 18
        }
      ],
      "source": [
        "train_x.apply(len).max(axis=0)"
      ]
    },
    {
      "cell_type": "code",
      "execution_count": 19,
      "metadata": {
        "id": "ix31Kxooib3o"
      },
      "outputs": [],
      "source": [
        "train_data = tf.data.Dataset.from_tensor_slices((train_x, train_y))\n",
        "valid_data = tf.data.Dataset.from_tensor_slices((valid_x, valid_y))\n",
        "\n",
        "train_data = train_data.batch(16)\n",
        "valid_data = valid_data.batch(16)"
      ]
    },
    {
      "cell_type": "code",
      "execution_count": 20,
      "metadata": {
        "id": "7MyfQWFIiehH"
      },
      "outputs": [],
      "source": [
        "AUTOTUNE = tf.data.AUTOTUNE\n",
        "\n",
        "train_data = train_data.cache().prefetch(buffer_size=AUTOTUNE)\n",
        "valid_data = valid_data.cache().prefetch(buffer_size=AUTOTUNE)"
      ]
    },
    {
      "cell_type": "code",
      "execution_count": 21,
      "metadata": {
        "id": "RmyRggxJifzQ"
      },
      "outputs": [],
      "source": [
        "def custom_standardization(input_data):\n",
        "    return input_data\n",
        "\n",
        "def data_preparation(train_data, seq_len=1, vocab_size = 30000):    \n",
        "\n",
        "    vectorize_layer = TextVectorization(\n",
        "        standardize=custom_standardization,\n",
        "        max_tokens=vocab_size,\n",
        "        output_mode='int',\n",
        "        output_sequence_length=seq_len)\n",
        "\n",
        "\n",
        "    # Make a text-only dataset (no labels) and call adapt to build the vocabulary.\n",
        "    text_data = train_data.map(lambda x, y: x)\n",
        "    vectorize_layer.adapt(text_data)\n",
        "    return vectorize_layer"
      ]
    },
    {
      "cell_type": "code",
      "execution_count": 22,
      "metadata": {
        "id": "nfPKjqRlihyn"
      },
      "outputs": [],
      "source": [
        "embedding_dim = 64\n",
        "\n",
        "class modelNER(tf.keras.Model):\n",
        "    def __init__(self):\n",
        "        super(modelNER, self).__init__()\n",
        "        self.emb = Embedding(vocab_size, embedding_dim)\n",
        "        self.gPool = GlobalMaxPooling1D()\n",
        "        self.fc1 = Dense(300, activation='relu')\n",
        "        self.fc2 = Dense(50, activation='relu')\n",
        "        self.fc3 = Dense(6, activation='softmax')\n",
        "\n",
        "    def call(self, x):\n",
        "        x = vectorize_layer(x)\n",
        "        x = self.emb(x)\n",
        "        pool_x = self.gPool(x)\n",
        "        \n",
        "        fc_x = self.fc1(pool_x)\n",
        "        fc_x = self.fc2(fc_x)\n",
        "        \n",
        "        concat_x = tf.concat([pool_x, fc_x], axis=1)\n",
        "        prob = self.fc3(concat_x)\n",
        "        return prob"
      ]
    },
    {
      "cell_type": "code",
      "execution_count": 23,
      "metadata": {
        "colab": {
          "base_uri": "https://localhost:8080/",
          "height": 415
        },
        "id": "Eh0a5knCil2n",
        "outputId": "7887b22f-1ac9-438e-bca2-8c4e9e942bb1"
      },
      "outputs": [
        {
          "output_type": "stream",
          "name": "stdout",
          "text": [
            "Epoch 1/5\n",
            "12421/12421 [==============================] - 410s 33ms/step - loss: 0.2833 - accuracy: 0.9180 - val_loss: 0.2042 - val_accuracy: 0.9403\n",
            "Epoch 2/5\n",
            " 4879/12421 [==========>...................] - ETA: 3:48 - loss: 0.1267 - accuracy: 0.9629"
          ]
        },
        {
          "output_type": "error",
          "ename": "KeyboardInterrupt",
          "evalue": "ignored",
          "traceback": [
            "\u001b[0;31m---------------------------------------------------------------------------\u001b[0m",
            "\u001b[0;31mKeyboardInterrupt\u001b[0m                         Traceback (most recent call last)",
            "\u001b[0;32m<ipython-input-23-37b0b1267ead>\u001b[0m in \u001b[0;36m<module>\u001b[0;34m\u001b[0m\n\u001b[1;32m      6\u001b[0m               \u001b[0mloss\u001b[0m\u001b[0;34m=\u001b[0m\u001b[0mtf\u001b[0m\u001b[0;34m.\u001b[0m\u001b[0mkeras\u001b[0m\u001b[0;34m.\u001b[0m\u001b[0mlosses\u001b[0m\u001b[0;34m.\u001b[0m\u001b[0mSparseCategoricalCrossentropy\u001b[0m\u001b[0;34m(\u001b[0m\u001b[0;34m)\u001b[0m\u001b[0;34m,\u001b[0m\u001b[0;34m\u001b[0m\u001b[0;34m\u001b[0m\u001b[0m\n\u001b[1;32m      7\u001b[0m               metrics=['accuracy'])\n\u001b[0;32m----> 8\u001b[0;31m \u001b[0mmmodel\u001b[0m\u001b[0;34m.\u001b[0m\u001b[0mfit\u001b[0m\u001b[0;34m(\u001b[0m\u001b[0mtrain_data\u001b[0m\u001b[0;34m,\u001b[0m \u001b[0mvalidation_data\u001b[0m\u001b[0;34m=\u001b[0m\u001b[0mvalid_data\u001b[0m\u001b[0;34m,\u001b[0m \u001b[0mepochs\u001b[0m\u001b[0;34m=\u001b[0m\u001b[0;36m5\u001b[0m\u001b[0;34m)\u001b[0m\u001b[0;34m\u001b[0m\u001b[0;34m\u001b[0m\u001b[0m\n\u001b[0m",
            "\u001b[0;32m/usr/local/lib/python3.7/dist-packages/keras/utils/traceback_utils.py\u001b[0m in \u001b[0;36merror_handler\u001b[0;34m(*args, **kwargs)\u001b[0m\n\u001b[1;32m     62\u001b[0m     \u001b[0mfiltered_tb\u001b[0m \u001b[0;34m=\u001b[0m \u001b[0;32mNone\u001b[0m\u001b[0;34m\u001b[0m\u001b[0;34m\u001b[0m\u001b[0m\n\u001b[1;32m     63\u001b[0m     \u001b[0;32mtry\u001b[0m\u001b[0;34m:\u001b[0m\u001b[0;34m\u001b[0m\u001b[0;34m\u001b[0m\u001b[0m\n\u001b[0;32m---> 64\u001b[0;31m       \u001b[0;32mreturn\u001b[0m \u001b[0mfn\u001b[0m\u001b[0;34m(\u001b[0m\u001b[0;34m*\u001b[0m\u001b[0margs\u001b[0m\u001b[0;34m,\u001b[0m \u001b[0;34m**\u001b[0m\u001b[0mkwargs\u001b[0m\u001b[0;34m)\u001b[0m\u001b[0;34m\u001b[0m\u001b[0;34m\u001b[0m\u001b[0m\n\u001b[0m\u001b[1;32m     65\u001b[0m     \u001b[0;32mexcept\u001b[0m \u001b[0mException\u001b[0m \u001b[0;32mas\u001b[0m \u001b[0me\u001b[0m\u001b[0;34m:\u001b[0m  \u001b[0;31m# pylint: disable=broad-except\u001b[0m\u001b[0;34m\u001b[0m\u001b[0;34m\u001b[0m\u001b[0m\n\u001b[1;32m     66\u001b[0m       \u001b[0mfiltered_tb\u001b[0m \u001b[0;34m=\u001b[0m \u001b[0m_process_traceback_frames\u001b[0m\u001b[0;34m(\u001b[0m\u001b[0me\u001b[0m\u001b[0;34m.\u001b[0m\u001b[0m__traceback__\u001b[0m\u001b[0;34m)\u001b[0m\u001b[0;34m\u001b[0m\u001b[0;34m\u001b[0m\u001b[0m\n",
            "\u001b[0;32m/usr/local/lib/python3.7/dist-packages/keras/engine/training.py\u001b[0m in \u001b[0;36mfit\u001b[0;34m(self, x, y, batch_size, epochs, verbose, callbacks, validation_split, validation_data, shuffle, class_weight, sample_weight, initial_epoch, steps_per_epoch, validation_steps, validation_batch_size, validation_freq, max_queue_size, workers, use_multiprocessing)\u001b[0m\n\u001b[1;32m   1407\u001b[0m                 _r=1):\n\u001b[1;32m   1408\u001b[0m               \u001b[0mcallbacks\u001b[0m\u001b[0;34m.\u001b[0m\u001b[0mon_train_batch_begin\u001b[0m\u001b[0;34m(\u001b[0m\u001b[0mstep\u001b[0m\u001b[0;34m)\u001b[0m\u001b[0;34m\u001b[0m\u001b[0;34m\u001b[0m\u001b[0m\n\u001b[0;32m-> 1409\u001b[0;31m               \u001b[0mtmp_logs\u001b[0m \u001b[0;34m=\u001b[0m \u001b[0mself\u001b[0m\u001b[0;34m.\u001b[0m\u001b[0mtrain_function\u001b[0m\u001b[0;34m(\u001b[0m\u001b[0miterator\u001b[0m\u001b[0;34m)\u001b[0m\u001b[0;34m\u001b[0m\u001b[0;34m\u001b[0m\u001b[0m\n\u001b[0m\u001b[1;32m   1410\u001b[0m               \u001b[0;32mif\u001b[0m \u001b[0mdata_handler\u001b[0m\u001b[0;34m.\u001b[0m\u001b[0mshould_sync\u001b[0m\u001b[0;34m:\u001b[0m\u001b[0;34m\u001b[0m\u001b[0;34m\u001b[0m\u001b[0m\n\u001b[1;32m   1411\u001b[0m                 \u001b[0mcontext\u001b[0m\u001b[0;34m.\u001b[0m\u001b[0masync_wait\u001b[0m\u001b[0;34m(\u001b[0m\u001b[0;34m)\u001b[0m\u001b[0;34m\u001b[0m\u001b[0;34m\u001b[0m\u001b[0m\n",
            "\u001b[0;32m/usr/local/lib/python3.7/dist-packages/tensorflow/python/util/traceback_utils.py\u001b[0m in \u001b[0;36merror_handler\u001b[0;34m(*args, **kwargs)\u001b[0m\n\u001b[1;32m    148\u001b[0m     \u001b[0mfiltered_tb\u001b[0m \u001b[0;34m=\u001b[0m \u001b[0;32mNone\u001b[0m\u001b[0;34m\u001b[0m\u001b[0;34m\u001b[0m\u001b[0m\n\u001b[1;32m    149\u001b[0m     \u001b[0;32mtry\u001b[0m\u001b[0;34m:\u001b[0m\u001b[0;34m\u001b[0m\u001b[0;34m\u001b[0m\u001b[0m\n\u001b[0;32m--> 150\u001b[0;31m       \u001b[0;32mreturn\u001b[0m \u001b[0mfn\u001b[0m\u001b[0;34m(\u001b[0m\u001b[0;34m*\u001b[0m\u001b[0margs\u001b[0m\u001b[0;34m,\u001b[0m \u001b[0;34m**\u001b[0m\u001b[0mkwargs\u001b[0m\u001b[0;34m)\u001b[0m\u001b[0;34m\u001b[0m\u001b[0;34m\u001b[0m\u001b[0m\n\u001b[0m\u001b[1;32m    151\u001b[0m     \u001b[0;32mexcept\u001b[0m \u001b[0mException\u001b[0m \u001b[0;32mas\u001b[0m \u001b[0me\u001b[0m\u001b[0;34m:\u001b[0m\u001b[0;34m\u001b[0m\u001b[0;34m\u001b[0m\u001b[0m\n\u001b[1;32m    152\u001b[0m       \u001b[0mfiltered_tb\u001b[0m \u001b[0;34m=\u001b[0m \u001b[0m_process_traceback_frames\u001b[0m\u001b[0;34m(\u001b[0m\u001b[0me\u001b[0m\u001b[0;34m.\u001b[0m\u001b[0m__traceback__\u001b[0m\u001b[0;34m)\u001b[0m\u001b[0;34m\u001b[0m\u001b[0;34m\u001b[0m\u001b[0m\n",
            "\u001b[0;32m/usr/local/lib/python3.7/dist-packages/tensorflow/python/eager/def_function.py\u001b[0m in \u001b[0;36m__call__\u001b[0;34m(self, *args, **kwds)\u001b[0m\n\u001b[1;32m    913\u001b[0m \u001b[0;34m\u001b[0m\u001b[0m\n\u001b[1;32m    914\u001b[0m       \u001b[0;32mwith\u001b[0m \u001b[0mOptionalXlaContext\u001b[0m\u001b[0;34m(\u001b[0m\u001b[0mself\u001b[0m\u001b[0;34m.\u001b[0m\u001b[0m_jit_compile\u001b[0m\u001b[0;34m)\u001b[0m\u001b[0;34m:\u001b[0m\u001b[0;34m\u001b[0m\u001b[0;34m\u001b[0m\u001b[0m\n\u001b[0;32m--> 915\u001b[0;31m         \u001b[0mresult\u001b[0m \u001b[0;34m=\u001b[0m \u001b[0mself\u001b[0m\u001b[0;34m.\u001b[0m\u001b[0m_call\u001b[0m\u001b[0;34m(\u001b[0m\u001b[0;34m*\u001b[0m\u001b[0margs\u001b[0m\u001b[0;34m,\u001b[0m \u001b[0;34m**\u001b[0m\u001b[0mkwds\u001b[0m\u001b[0;34m)\u001b[0m\u001b[0;34m\u001b[0m\u001b[0;34m\u001b[0m\u001b[0m\n\u001b[0m\u001b[1;32m    916\u001b[0m \u001b[0;34m\u001b[0m\u001b[0m\n\u001b[1;32m    917\u001b[0m       \u001b[0mnew_tracing_count\u001b[0m \u001b[0;34m=\u001b[0m \u001b[0mself\u001b[0m\u001b[0;34m.\u001b[0m\u001b[0mexperimental_get_tracing_count\u001b[0m\u001b[0;34m(\u001b[0m\u001b[0;34m)\u001b[0m\u001b[0;34m\u001b[0m\u001b[0;34m\u001b[0m\u001b[0m\n",
            "\u001b[0;32m/usr/local/lib/python3.7/dist-packages/tensorflow/python/eager/def_function.py\u001b[0m in \u001b[0;36m_call\u001b[0;34m(self, *args, **kwds)\u001b[0m\n\u001b[1;32m    945\u001b[0m       \u001b[0;31m# In this case we have created variables on the first call, so we run the\u001b[0m\u001b[0;34m\u001b[0m\u001b[0;34m\u001b[0m\u001b[0;34m\u001b[0m\u001b[0m\n\u001b[1;32m    946\u001b[0m       \u001b[0;31m# defunned version which is guaranteed to never create variables.\u001b[0m\u001b[0;34m\u001b[0m\u001b[0;34m\u001b[0m\u001b[0;34m\u001b[0m\u001b[0m\n\u001b[0;32m--> 947\u001b[0;31m       \u001b[0;32mreturn\u001b[0m \u001b[0mself\u001b[0m\u001b[0;34m.\u001b[0m\u001b[0m_stateless_fn\u001b[0m\u001b[0;34m(\u001b[0m\u001b[0;34m*\u001b[0m\u001b[0margs\u001b[0m\u001b[0;34m,\u001b[0m \u001b[0;34m**\u001b[0m\u001b[0mkwds\u001b[0m\u001b[0;34m)\u001b[0m  \u001b[0;31m# pylint: disable=not-callable\u001b[0m\u001b[0;34m\u001b[0m\u001b[0;34m\u001b[0m\u001b[0m\n\u001b[0m\u001b[1;32m    948\u001b[0m     \u001b[0;32melif\u001b[0m \u001b[0mself\u001b[0m\u001b[0;34m.\u001b[0m\u001b[0m_stateful_fn\u001b[0m \u001b[0;32mis\u001b[0m \u001b[0;32mnot\u001b[0m \u001b[0;32mNone\u001b[0m\u001b[0;34m:\u001b[0m\u001b[0;34m\u001b[0m\u001b[0;34m\u001b[0m\u001b[0m\n\u001b[1;32m    949\u001b[0m       \u001b[0;31m# Release the lock early so that multiple threads can perform the call\u001b[0m\u001b[0;34m\u001b[0m\u001b[0;34m\u001b[0m\u001b[0;34m\u001b[0m\u001b[0m\n",
            "\u001b[0;32m/usr/local/lib/python3.7/dist-packages/tensorflow/python/eager/function.py\u001b[0m in \u001b[0;36m__call__\u001b[0;34m(self, *args, **kwargs)\u001b[0m\n\u001b[1;32m   2452\u001b[0m        filtered_flat_args) = self._maybe_define_function(args, kwargs)\n\u001b[1;32m   2453\u001b[0m     return graph_function._call_flat(\n\u001b[0;32m-> 2454\u001b[0;31m         filtered_flat_args, captured_inputs=graph_function.captured_inputs)  # pylint: disable=protected-access\n\u001b[0m\u001b[1;32m   2455\u001b[0m \u001b[0;34m\u001b[0m\u001b[0m\n\u001b[1;32m   2456\u001b[0m   \u001b[0;34m@\u001b[0m\u001b[0mproperty\u001b[0m\u001b[0;34m\u001b[0m\u001b[0;34m\u001b[0m\u001b[0m\n",
            "\u001b[0;32m/usr/local/lib/python3.7/dist-packages/tensorflow/python/eager/function.py\u001b[0m in \u001b[0;36m_call_flat\u001b[0;34m(self, args, captured_inputs, cancellation_manager)\u001b[0m\n\u001b[1;32m   1859\u001b[0m       \u001b[0;31m# No tape is watching; skip to running the function.\u001b[0m\u001b[0;34m\u001b[0m\u001b[0;34m\u001b[0m\u001b[0;34m\u001b[0m\u001b[0m\n\u001b[1;32m   1860\u001b[0m       return self._build_call_outputs(self._inference_function.call(\n\u001b[0;32m-> 1861\u001b[0;31m           ctx, args, cancellation_manager=cancellation_manager))\n\u001b[0m\u001b[1;32m   1862\u001b[0m     forward_backward = self._select_forward_and_backward_functions(\n\u001b[1;32m   1863\u001b[0m         \u001b[0margs\u001b[0m\u001b[0;34m,\u001b[0m\u001b[0;34m\u001b[0m\u001b[0;34m\u001b[0m\u001b[0m\n",
            "\u001b[0;32m/usr/local/lib/python3.7/dist-packages/tensorflow/python/eager/function.py\u001b[0m in \u001b[0;36mcall\u001b[0;34m(self, ctx, args, cancellation_manager)\u001b[0m\n\u001b[1;32m    500\u001b[0m               \u001b[0minputs\u001b[0m\u001b[0;34m=\u001b[0m\u001b[0margs\u001b[0m\u001b[0;34m,\u001b[0m\u001b[0;34m\u001b[0m\u001b[0;34m\u001b[0m\u001b[0m\n\u001b[1;32m    501\u001b[0m               \u001b[0mattrs\u001b[0m\u001b[0;34m=\u001b[0m\u001b[0mattrs\u001b[0m\u001b[0;34m,\u001b[0m\u001b[0;34m\u001b[0m\u001b[0;34m\u001b[0m\u001b[0m\n\u001b[0;32m--> 502\u001b[0;31m               ctx=ctx)\n\u001b[0m\u001b[1;32m    503\u001b[0m         \u001b[0;32melse\u001b[0m\u001b[0;34m:\u001b[0m\u001b[0;34m\u001b[0m\u001b[0;34m\u001b[0m\u001b[0m\n\u001b[1;32m    504\u001b[0m           outputs = execute.execute_with_cancellation(\n",
            "\u001b[0;32m/usr/local/lib/python3.7/dist-packages/tensorflow/python/eager/execute.py\u001b[0m in \u001b[0;36mquick_execute\u001b[0;34m(op_name, num_outputs, inputs, attrs, ctx, name)\u001b[0m\n\u001b[1;32m     53\u001b[0m     \u001b[0mctx\u001b[0m\u001b[0;34m.\u001b[0m\u001b[0mensure_initialized\u001b[0m\u001b[0;34m(\u001b[0m\u001b[0;34m)\u001b[0m\u001b[0;34m\u001b[0m\u001b[0;34m\u001b[0m\u001b[0m\n\u001b[1;32m     54\u001b[0m     tensors = pywrap_tfe.TFE_Py_Execute(ctx._handle, device_name, op_name,\n\u001b[0;32m---> 55\u001b[0;31m                                         inputs, attrs, num_outputs)\n\u001b[0m\u001b[1;32m     56\u001b[0m   \u001b[0;32mexcept\u001b[0m \u001b[0mcore\u001b[0m\u001b[0;34m.\u001b[0m\u001b[0m_NotOkStatusException\u001b[0m \u001b[0;32mas\u001b[0m \u001b[0me\u001b[0m\u001b[0;34m:\u001b[0m\u001b[0;34m\u001b[0m\u001b[0;34m\u001b[0m\u001b[0m\n\u001b[1;32m     57\u001b[0m     \u001b[0;32mif\u001b[0m \u001b[0mname\u001b[0m \u001b[0;32mis\u001b[0m \u001b[0;32mnot\u001b[0m \u001b[0;32mNone\u001b[0m\u001b[0;34m:\u001b[0m\u001b[0;34m\u001b[0m\u001b[0;34m\u001b[0m\u001b[0m\n",
            "\u001b[0;31mKeyboardInterrupt\u001b[0m: "
          ]
        }
      ],
      "source": [
        "vocab_size = 30000\n",
        "vectorize_layer = data_preparation(train_data, seq_len = 1, vocab_size=vocab_size)\n",
        "\n",
        "mmodel = modelNER()\n",
        "mmodel.compile(optimizer='adam',\n",
        "              loss=tf.keras.losses.SparseCategoricalCrossentropy(),\n",
        "              metrics=['accuracy'])\n",
        "mmodel.fit(train_data, validation_data=valid_data, epochs=5)"
      ]
    },
    {
      "cell_type": "code",
      "execution_count": null,
      "metadata": {
        "id": "LYsSiZOAioJQ"
      },
      "outputs": [],
      "source": [
        "vocab_size = 30000\n",
        "vectorize_layer = data_preparation(train_data, seq_len = 5, vocab_size=vocab_size)\n",
        "\n",
        "mmodel = modelNER()\n",
        "mmodel.compile(optimizer='adam',\n",
        "              loss=tf.keras.losses.SparseCategoricalCrossentropy(),\n",
        "              metrics=['accuracy'])\n",
        "mmodel.fit(train_data, validation_data=valid_data, epochs=5)"
      ]
    },
    {
      "cell_type": "code",
      "execution_count": null,
      "metadata": {
        "id": "NAqA6rn5isWP"
      },
      "outputs": [],
      "source": [
        "vectorize_layer = data_preparation(train_data, seq_len = 10, vocab_size=vocab_size)\n",
        "\n",
        "mmodel = modelNER()\n",
        "mmodel.compile(optimizer='adam',\n",
        "              loss=tf.keras.losses.SparseCategoricalCrossentropy(),\n",
        "              metrics=['accuracy'])\n",
        "mmodel.fit(train_data, validation_data=valid_data, epochs=5)"
      ]
    },
    {
      "cell_type": "markdown",
      "source": [
        "Deeppavlov не хочет устанавливаться(((\n",
        "\n",
        "Пробовала Spacy - похожая история."
      ],
      "metadata": {
        "id": "NqLHsXOUMQm1"
      }
    }
  ],
  "metadata": {
    "colab": {
      "collapsed_sections": [],
      "provenance": []
    },
    "kernelspec": {
      "display_name": "Python 3",
      "language": "python",
      "name": "python3"
    },
    "language_info": {
      "codemirror_mode": {
        "name": "ipython",
        "version": 3
      },
      "file_extension": ".py",
      "mimetype": "text/x-python",
      "name": "python",
      "nbconvert_exporter": "python",
      "pygments_lexer": "ipython3",
      "version": "3.8.5"
    }
  },
  "nbformat": 4,
  "nbformat_minor": 0
}